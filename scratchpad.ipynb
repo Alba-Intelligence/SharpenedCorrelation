{
 "cells": [
  {
   "cell_type": "code",
   "execution_count": 1,
   "id": "cd330208",
   "metadata": {},
   "outputs": [
    {
     "name": "stderr",
     "output_type": "stream",
     "text": [
      "\u001b[32m\u001b[1m  Activating\u001b[22m\u001b[39m project at `~/Development/julia/projects/SharpenedCorrelation`\n"
     ]
    }
   ],
   "source": [
    "cd(\".\"); using Revise, Pkg; Pkg.activate(\".\")\n",
    "using BenchmarkTools, SharpenedCorrelation"
   ]
  }
 ],
 "metadata": {
  "kernelspec": {
   "display_name": "Julia_1.7.2 1.7.2",
   "language": "julia",
   "name": "julia_1.7.2-1.7"
  },
  "language_info": {
   "file_extension": ".jl",
   "mimetype": "application/julia",
   "name": "julia",
   "version": "1.7.2"
  },
  "toc": {
   "base_numbering": 1,
   "nav_menu": {},
   "number_sections": true,
   "sideBar": true,
   "skip_h1_title": false,
   "title_cell": "Table of Contents",
   "title_sidebar": "Contents",
   "toc_cell": false,
   "toc_position": {},
   "toc_section_display": true,
   "toc_window_display": false
  }
 },
 "nbformat": 4,
 "nbformat_minor": 5
}
