{
 "cells": [
  {
   "cell_type": "markdown",
   "id": "4156a7c2",
   "metadata": {},
   "source": [
    "___WORK IN PROGRESS___"
   ]
  },
  {
   "cell_type": "markdown",
   "id": "c928e32d",
   "metadata": {},
   "source": [
    "\n",
    "# Prologue\n",
    "\n",
    "## The Sharpened Cosine Similarity\n",
    "\n",
    "The Sharpened Cosine Similarity is a modified form of cosine distance that showed over the past few months, thought up by Brandon Rohrer .\n",
    "\n",
    "\n",
    "\n",
    "[https://www.rpisoni.dev/posts/cossim-convolution/]()\n",
    "[https://www.rpisoni.dev/posts/cossim-convolution-part2/]()"
   ]
  },
  {
   "cell_type": "markdown",
   "id": "dc89b29c",
   "metadata": {},
   "source": [
    "The usual cosine transform \n",
    "\n",
    "$$scs(s, k) = \\frac{s \\cdot k}{\\Vert{s}\\Vert \\Vert{k} \\Vert}$$ \n",
    "\n",
    "is modified It looks like\n",
    "\n",
    "$$scs(s, k) = sign(s \\cdot k)\\Biggl(\\frac{s \\cdot k}{(\\Vert{s}\\Vert + q)(\\Vert{k}\\Vert + q)}\\Biggr)^p$$"
   ]
  },
  {
   "cell_type": "markdown",
   "id": "e365e60e",
   "metadata": {},
   "source": [
    "## How does it work?\n",
    "\n",
    "2 Parameters are introduced: \n",
    "\n",
    "- $q$ to floor the value of the norm of either vector;\n",
    "- $p$ an exponentiation factor to decide \n",
    "\n",
    "Let's imagine the case of a picture. Some zones might contain a lot of information (e.g. an airplane); some just noise (e.g. various shades of blue in the background)."
   ]
  },
  {
   "cell_type": "markdown",
   "id": "1290dfbd",
   "metadata": {},
   "source": [
    "### Ignore the irrelevant\n",
    "\n",
    "When running a convolution over the picture, and under the assumption that the entire picture has been normalised, the norm of a patch around the plane will be higher that over the sky. But, when it comes to apply the cosine transform, those local vectors will be renormalised to 1. The effect is that the the convolution filters will be trained to find information assuming that each of those 2 zones are of equal relevance. \n",
    "\n",
    "The $q$ parameter helps. Over a patch of sky, $q$ will be much higher than $\\Vert{s}\\Vert$. Therefore the value of the convolution will be seriously decreased. \n",
    "\n",
    "No training budget will be wasted on training on the useless. $q$ clips the noise out."
   ]
  },
  {
   "cell_type": "markdown",
   "id": "ae4c6d38",
   "metadata": {},
   "source": [
    "### Focus on anything even remotely interesting, or only zoom in the critical\n",
    "\n",
    "The $p$ exponentiation parameters could be anything from $0^+$ to $+\\infty$.\n",
    "\n",
    "If $p = 1$, we have the normal cosine distance. \n",
    "\n",
    "If $p > 1$, we have a convex function. At the extreme, we have a curve that is almost $0$ almost everywhere until the cosine distance becomes close to $1$. __If $p > 1$, we only look at the truely interesting patches__. __$p > 1$ is super sensitivity__ \n",
    "\n",
    "Conversely, if $p < 1$, we get a concave curve. For very low (positive) values of $p$, the curve will be close to $1$ everywhere until the cosine distance gets close to $0$. __If $p \\rightarrow 0$, the truely useless is ignored, anything else is worth considering__. __$p \\rightarrow 0$ is super specificity__.\n",
    "\n",
    "(P.S. despite decades of exposure to those words, I still reach out to a dictionary to know specificity vs.sensitivity. Intuition A+. Vocabulary. Z-)\n"
   ]
  },
  {
   "cell_type": "markdown",
   "id": "919de3bf",
   "metadata": {},
   "source": [
    "## How to improve?\n",
    "\n",
    "A few improvements, some implemented in the code, some not."
   ]
  },
  {
   "cell_type": "markdown",
   "id": "31bac98d",
   "metadata": {},
   "source": [
    "### Keep $p$ reasonable (implemented)\n",
    "\n",
    "Instead of using a parameter $p$, use a _Soft ReLU_ shape:\n",
    "\n",
    "$$scs(s, k) = sign(s \\cdot k)\\Biggl(\\frac{s \\cdot k}{(\\Vert{s}\\Vert + q)(\\Vert{k}\\Vert + q)}\\Biggr)^ {\\log \\left( 1 + \\exp \\left( p \\right) \\right) }$$\n",
    "\n",
    "$p$ can now range from $-\\infty$ to $+\\infty$ with the highest gradients around 0, i.e. around an exponent of 1.\n"
   ]
  },
  {
   "cell_type": "markdown",
   "id": "b3c8a254",
   "metadata": {},
   "source": [
    "### Get rid of the cosine transform and go for a real Pearson cross-correlation  (implemented)\n",
    "\n",
    "Cosine distance is great for embeddings. But for determining similarities, not so much. Let's go for a true cross-correlation.\n",
    "\n",
    "$$S = \\sum{\\left( s - \\bar{s} \\right) }$$\n",
    "$$K = \\sum{\\left( k - \\bar{k} \\right) }$$\n",
    "\n",
    "$$scs(s, k) = sign(S \\times K))\\Biggl(\\frac{S \\times K}{\\left( \\sqrt{(\\sum{\\left( s - \\bar{s} \\right)^2}} + q \\right) \\cdot \\left( \\sqrt{(\\sum{\\left( k - \\bar{k} \\right)^2}} + q \\right)}\\Biggr)^ {\\log \\left( 1 + \\exp \\left( p \\right) \\right) }\n",
    "$$\n",
    "\n",
    "\n",
    "A bit more of a mouthful and would translate into a dog's breakfast in TensorFlow...\n"
   ]
  },
  {
   "cell_type": "markdown",
   "id": "81763dad",
   "metadata": {},
   "source": [
    "### Robustify (not implemented)\n",
    "\n",
    "$q$ brings noise removal. But the cross-correlation is still sensitive to outliers. Clipping for example at σ = 2 (Winsorised correlation) after re-normalisation, Spearman or one of myriad other variants with different performance profiles. "
   ]
  },
  {
   "cell_type": "markdown",
   "id": "b133a8b9",
   "metadata": {},
   "source": [
    "### Use actual information content as the norm  (not implemented)\n",
    "\n",
    "When the Salvator Mundi was put on the market a couple of years ago (and eventually bought for half a billion US), numerous methods were used to confirm its authenticity. An interesting approach came from an AI company that had aplly a similar method to Rembrandt's. See [https://www.art-critique.com/en/2019/04/a-eye-another-tool-for-the-authenticating-artworks/](), on Arxiv [https://arxiv.org/abs/2005.10600]() for a (hardly) little more technical content on Salvator Mundi work, this [https://arxiv.org/abs/1907.12436]() for a bit more, and the code at [https://github.com/stevenjayfrank/A-Eye]().\n",
    "\n",
    "Key to their method method is to focus the training and inference on sections of the painting where the information content is high.\n",
    "\n",
    "This could be use to replace the $q$ parameter.\n"
   ]
  },
  {
   "cell_type": "markdown",
   "id": "cc48320c",
   "metadata": {},
   "source": [
    "# Show me the __Julia__ code\n",
    "\n",
    "Many have contributed TensorFlow and PyTorch implementations. See [https://e2eml.school/scs.html]().\n",
    "\n",
    "Time for some Julia supremacy with the [https://fluxml.ai/](Flux.jl) library. Code is in the repo. Running under Julia 1.7, packages upgraded to the latest versions.\n"
   ]
  },
  {
   "cell_type": "markdown",
   "id": "8683cf2e",
   "metadata": {},
   "source": [
    "## Using the MNIST dataset"
   ]
  },
  {
   "cell_type": "code",
   "execution_count": 26,
   "id": "c1c0b1f9",
   "metadata": {},
   "outputs": [
    {
     "name": "stderr",
     "output_type": "stream",
     "text": [
      "\u001b[32m\u001b[1m  Activating\u001b[22m\u001b[39m project at `~/Development/julia/projects/SharpenedCorrelation`\n"
     ]
    }
   ],
   "source": [
    "cd(@__DIR__); using Revise, Pkg; Pkg.activate(@__DIR__);"
   ]
  },
  {
   "cell_type": "code",
   "execution_count": 27,
   "id": "cdb78d75",
   "metadata": {},
   "outputs": [],
   "source": [
    "using ProgressMeter\n",
    "using BenchmarkTools\n",
    "using Flux\n",
    "using MLDatasets"
   ]
  },
  {
   "cell_type": "markdown",
   "id": "7bcc3815",
   "metadata": {},
   "source": [
    "We here only use the MNIST dataset described in [https://juliaml.github.io/MLDatasets.jl/stable](). If not already available in `~/.julia/datadeps/`, it will be automatically downloaded. Some `MLDataSets` request accepting the terms of use. If a prompt appears, type `y` + `Enter`.\n",
    "\n",
    "Let's just check that we see something.\n",
    "\n",
    "(To download for example `MNIST` separately: `MNIST.download(; i_accept_the_terms_of_use=true)`)"
   ]
  },
  {
   "cell_type": "code",
   "execution_count": 29,
   "id": "7f7f3b45",
   "metadata": {},
   "outputs": [
    {
     "data": {
      "image/svg+xml": "<?xml version=\"1.0\" encoding=\"UTF-8\"?>\n<!DOCTYPE svg PUBLIC \"-//W3C//DTD SVG 1.1//EN\"\n \"http://www.w3.org/Graphics/SVG/1.1/DTD/svg11.dtd\">\n<svg xmlns=\"http://www.w3.org/2000/svg\" version=\"1.1\"\n     width=\"150mm\" height=\"150mm\"\n     viewBox=\"0 0 28 28\" preserveAspectRatio=\"none\"\n     shape-rendering=\"crispEdges\" stroke=\"none\">\n<rect width=\".81\" height=\".81\" x=\"0\" y=\"0\" fill=\"#000000\" />\n<rect width=\".81\" height=\".81\" x=\"1\" y=\"0\" fill=\"#000000\" />\n<rect width=\".81\" height=\".81\" x=\"2\" y=\"0\" fill=\"#000000\" />\n<rect width=\".81\" height=\".81\" x=\"3\" y=\"0\" fill=\"#000000\" />\n<rect width=\".81\" height=\".81\" x=\"4\" y=\"0\" fill=\"#000000\" />\n<rect width=\".81\" height=\".81\" x=\"5\" y=\"0\" fill=\"#000000\" />\n<rect width=\".81\" height=\".81\" x=\"6\" y=\"0\" fill=\"#000000\" />\n<rect width=\".81\" height=\".81\" x=\"7\" y=\"0\" fill=\"#000000\" />\n<rect width=\".81\" height=\".81\" x=\"8\" y=\"0\" fill=\"#000000\" />\n<rect width=\".81\" height=\".81\" x=\"9\" y=\"0\" fill=\"#000000\" />\n<rect width=\".81\" height=\".81\" x=\"10\" y=\"0\" fill=\"#000000\" />\n<rect width=\".81\" height=\".81\" x=\"11\" y=\"0\" fill=\"#000000\" />\n<rect width=\".81\" height=\".81\" x=\"12\" y=\"0\" fill=\"#000000\" />\n<rect width=\".81\" height=\".81\" x=\"13\" y=\"0\" fill=\"#000000\" />\n<rect width=\".81\" height=\".81\" x=\"14\" y=\"0\" fill=\"#000000\" />\n<rect width=\".81\" height=\".81\" x=\"15\" y=\"0\" fill=\"#000000\" />\n<rect width=\".81\" height=\".81\" x=\"16\" y=\"0\" fill=\"#000000\" />\n<rect width=\".81\" height=\".81\" x=\"17\" y=\"0\" fill=\"#000000\" />\n<rect width=\".81\" height=\".81\" x=\"18\" y=\"0\" fill=\"#000000\" />\n<rect width=\".81\" height=\".81\" x=\"19\" y=\"0\" fill=\"#000000\" />\n<rect width=\".81\" height=\".81\" x=\"20\" y=\"0\" fill=\"#000000\" />\n<rect width=\".81\" height=\".81\" x=\"21\" y=\"0\" fill=\"#000000\" />\n<rect width=\".81\" height=\".81\" x=\"22\" y=\"0\" fill=\"#000000\" />\n<rect width=\".81\" height=\".81\" x=\"23\" y=\"0\" fill=\"#000000\" />\n<rect width=\".81\" height=\".81\" x=\"24\" y=\"0\" fill=\"#000000\" />\n<rect width=\".81\" height=\".81\" x=\"25\" y=\"0\" fill=\"#000000\" />\n<rect width=\".81\" height=\".81\" x=\"26\" y=\"0\" fill=\"#000000\" />\n<rect width=\".81\" height=\".81\" x=\"27\" y=\"0\" fill=\"#000000\" />\n<rect width=\".81\" height=\".81\" x=\"0\" y=\"1\" fill=\"#000000\" />\n<rect width=\".81\" height=\".81\" x=\"1\" y=\"1\" fill=\"#000000\" />\n<rect width=\".81\" height=\".81\" x=\"2\" y=\"1\" fill=\"#000000\" />\n<rect width=\".81\" height=\".81\" x=\"3\" y=\"1\" fill=\"#000000\" />\n<rect width=\".81\" height=\".81\" x=\"4\" y=\"1\" fill=\"#000000\" />\n<rect width=\".81\" height=\".81\" x=\"5\" y=\"1\" fill=\"#000000\" />\n<rect width=\".81\" height=\".81\" x=\"6\" y=\"1\" fill=\"#000000\" />\n<rect width=\".81\" height=\".81\" x=\"7\" y=\"1\" fill=\"#000000\" />\n<rect width=\".81\" height=\".81\" x=\"8\" y=\"1\" fill=\"#000000\" />\n<rect width=\".81\" height=\".81\" x=\"9\" y=\"1\" fill=\"#000000\" />\n<rect width=\".81\" height=\".81\" x=\"10\" y=\"1\" fill=\"#000000\" />\n<rect width=\".81\" height=\".81\" x=\"11\" y=\"1\" fill=\"#000000\" />\n<rect width=\".81\" height=\".81\" x=\"12\" y=\"1\" fill=\"#000000\" />\n<rect width=\".81\" height=\".81\" x=\"13\" y=\"1\" fill=\"#000000\" />\n<rect width=\".81\" height=\".81\" x=\"14\" y=\"1\" fill=\"#000000\" />\n<rect width=\".81\" height=\".81\" x=\"15\" y=\"1\" fill=\"#000000\" />\n<rect width=\".81\" height=\".81\" x=\"16\" y=\"1\" fill=\"#000000\" />\n<rect width=\".81\" height=\".81\" x=\"17\" y=\"1\" fill=\"#000000\" />\n<rect width=\".81\" height=\".81\" x=\"18\" y=\"1\" fill=\"#000000\" />\n<rect width=\".81\" height=\".81\" x=\"19\" y=\"1\" fill=\"#000000\" />\n<rect width=\".81\" height=\".81\" x=\"20\" y=\"1\" fill=\"#000000\" />\n<rect width=\".81\" height=\".81\" x=\"21\" y=\"1\" fill=\"#000000\" />\n<rect width=\".81\" height=\".81\" x=\"22\" y=\"1\" fill=\"#000000\" />\n<rect width=\".81\" height=\".81\" x=\"23\" y=\"1\" fill=\"#000000\" />\n<rect width=\".81\" height=\".81\" x=\"24\" y=\"1\" fill=\"#000000\" />\n<rect width=\".81\" height=\".81\" x=\"25\" y=\"1\" fill=\"#000000\" />\n<rect width=\".81\" height=\".81\" x=\"26\" y=\"1\" fill=\"#000000\" />\n<rect width=\".81\" height=\".81\" x=\"27\" y=\"1\" fill=\"#000000\" />\n<rect width=\".81\" height=\".81\" x=\"0\" y=\"2\" fill=\"#000000\" />\n<rect width=\".81\" height=\".81\" x=\"1\" y=\"2\" fill=\"#000000\" />\n<rect width=\".81\" height=\".81\" x=\"2\" y=\"2\" fill=\"#000000\" />\n<rect width=\".81\" height=\".81\" x=\"3\" y=\"2\" fill=\"#000000\" />\n<rect width=\".81\" height=\".81\" x=\"4\" y=\"2\" fill=\"#000000\" />\n<rect width=\".81\" height=\".81\" x=\"5\" y=\"2\" fill=\"#000000\" />\n<rect width=\".81\" height=\".81\" x=\"6\" y=\"2\" fill=\"#000000\" />\n<rect width=\".81\" height=\".81\" x=\"7\" y=\"2\" fill=\"#000000\" />\n<rect width=\".81\" height=\".81\" x=\"8\" y=\"2\" fill=\"#000000\" />\n<rect width=\".81\" height=\".81\" x=\"9\" y=\"2\" fill=\"#000000\" />\n<rect width=\".81\" height=\".81\" x=\"10\" y=\"2\" fill=\"#000000\" />\n<rect width=\".81\" height=\".81\" x=\"11\" y=\"2\" fill=\"#000000\" />\n<rect width=\".81\" height=\".81\" x=\"12\" y=\"2\" fill=\"#000000\" />\n<rect width=\".81\" height=\".81\" x=\"13\" y=\"2\" fill=\"#000000\" />\n<rect width=\".81\" height=\".81\" x=\"14\" y=\"2\" fill=\"#000000\" />\n<rect width=\".81\" height=\".81\" x=\"15\" y=\"2\" fill=\"#000000\" />\n<rect width=\".81\" height=\".81\" x=\"16\" y=\"2\" fill=\"#000000\" />\n<rect width=\".81\" height=\".81\" x=\"17\" y=\"2\" fill=\"#000000\" />\n<rect width=\".81\" height=\".81\" x=\"18\" y=\"2\" fill=\"#000000\" />\n<rect width=\".81\" height=\".81\" x=\"19\" y=\"2\" fill=\"#000000\" />\n<rect width=\".81\" height=\".81\" x=\"20\" y=\"2\" fill=\"#000000\" />\n<rect width=\".81\" height=\".81\" x=\"21\" y=\"2\" fill=\"#000000\" />\n<rect width=\".81\" height=\".81\" x=\"22\" y=\"2\" fill=\"#000000\" />\n<rect width=\".81\" height=\".81\" x=\"23\" y=\"2\" fill=\"#000000\" />\n<rect width=\".81\" height=\".81\" x=\"24\" y=\"2\" fill=\"#000000\" />\n<rect width=\".81\" height=\".81\" x=\"25\" y=\"2\" fill=\"#000000\" />\n<rect width=\".81\" height=\".81\" x=\"26\" y=\"2\" fill=\"#000000\" />\n<rect width=\".81\" height=\".81\" x=\"27\" y=\"2\" fill=\"#000000\" />\n<rect width=\".81\" height=\".81\" x=\"0\" y=\"3\" fill=\"#000000\" />\n<rect width=\".81\" height=\".81\" x=\"1\" y=\"3\" fill=\"#000000\" />\n<rect width=\".81\" height=\".81\" x=\"2\" y=\"3\" fill=\"#000000\" />\n<rect width=\".81\" height=\".81\" x=\"3\" y=\"3\" fill=\"#000000\" />\n<rect width=\".81\" height=\".81\" x=\"4\" y=\"3\" fill=\"#000000\" />\n<rect width=\".81\" height=\".81\" x=\"5\" y=\"3\" fill=\"#000000\" />\n<rect width=\".81\" height=\".81\" x=\"6\" y=\"3\" fill=\"#000000\" />\n<rect width=\".81\" height=\".81\" x=\"7\" y=\"3\" fill=\"#000000\" />\n<rect width=\".81\" height=\".81\" x=\"8\" y=\"3\" fill=\"#000000\" />\n<rect width=\".81\" height=\".81\" x=\"9\" y=\"3\" fill=\"#000000\" />\n<rect width=\".81\" height=\".81\" x=\"10\" y=\"3\" fill=\"#000000\" />\n<rect width=\".81\" height=\".81\" x=\"11\" y=\"3\" fill=\"#000000\" />\n<rect width=\".81\" height=\".81\" x=\"12\" y=\"3\" fill=\"#000000\" />\n<rect width=\".81\" height=\".81\" x=\"13\" y=\"3\" fill=\"#000000\" />\n<rect width=\".81\" height=\".81\" x=\"14\" y=\"3\" fill=\"#000000\" />\n<rect width=\".81\" height=\".81\" x=\"15\" y=\"3\" fill=\"#000000\" />\n<rect width=\".81\" height=\".81\" x=\"16\" y=\"3\" fill=\"#000000\" />\n<rect width=\".81\" height=\".81\" x=\"17\" y=\"3\" fill=\"#000000\" />\n<rect width=\".81\" height=\".81\" x=\"18\" y=\"3\" fill=\"#000000\" />\n<rect width=\".81\" height=\".81\" x=\"19\" y=\"3\" fill=\"#000000\" />\n<rect width=\".81\" height=\".81\" x=\"20\" y=\"3\" fill=\"#000000\" />\n<rect width=\".81\" height=\".81\" x=\"21\" y=\"3\" fill=\"#000000\" />\n<rect width=\".81\" height=\".81\" x=\"22\" y=\"3\" fill=\"#000000\" />\n<rect width=\".81\" height=\".81\" x=\"23\" y=\"3\" fill=\"#000000\" />\n<rect width=\".81\" height=\".81\" x=\"24\" y=\"3\" fill=\"#000000\" />\n<rect width=\".81\" height=\".81\" x=\"25\" y=\"3\" fill=\"#000000\" />\n<rect width=\".81\" height=\".81\" x=\"26\" y=\"3\" fill=\"#000000\" />\n<rect width=\".81\" height=\".81\" x=\"27\" y=\"3\" fill=\"#000000\" />\n<rect width=\".81\" height=\".81\" x=\"0\" y=\"4\" fill=\"#000000\" />\n<rect width=\".81\" height=\".81\" x=\"1\" y=\"4\" fill=\"#000000\" />\n<rect width=\".81\" height=\".81\" x=\"2\" y=\"4\" fill=\"#000000\" />\n<rect width=\".81\" height=\".81\" x=\"3\" y=\"4\" fill=\"#000000\" />\n<rect width=\".81\" height=\".81\" x=\"4\" y=\"4\" fill=\"#000000\" />\n<rect width=\".81\" height=\".81\" x=\"5\" y=\"4\" fill=\"#000000\" />\n<rect width=\".81\" height=\".81\" x=\"6\" y=\"4\" fill=\"#000000\" />\n<rect width=\".81\" height=\".81\" x=\"7\" y=\"4\" fill=\"#000000\" />\n<rect width=\".81\" height=\".81\" x=\"8\" y=\"4\" fill=\"#000000\" />\n<rect width=\".81\" height=\".81\" x=\"9\" y=\"4\" fill=\"#000000\" />\n<rect width=\".81\" height=\".81\" x=\"10\" y=\"4\" fill=\"#000000\" />\n<rect width=\".81\" height=\".81\" x=\"11\" y=\"4\" fill=\"#000000\" />\n<rect width=\".81\" height=\".81\" x=\"12\" y=\"4\" fill=\"#000000\" />\n<rect width=\".81\" height=\".81\" x=\"13\" y=\"4\" fill=\"#000000\" />\n<rect width=\".81\" height=\".81\" x=\"14\" y=\"4\" fill=\"#000000\" />\n<rect width=\".81\" height=\".81\" x=\"15\" y=\"4\" fill=\"#000000\" />\n<rect width=\".81\" height=\".81\" x=\"16\" y=\"4\" fill=\"#000000\" />\n<rect width=\".81\" height=\".81\" x=\"17\" y=\"4\" fill=\"#000000\" />\n<rect width=\".81\" height=\".81\" x=\"18\" y=\"4\" fill=\"#000000\" />\n<rect width=\".81\" height=\".81\" x=\"19\" y=\"4\" fill=\"#000000\" />\n<rect width=\".81\" height=\".81\" x=\"20\" y=\"4\" fill=\"#000000\" />\n<rect width=\".81\" height=\".81\" x=\"21\" y=\"4\" fill=\"#000000\" />\n<rect width=\".81\" height=\".81\" x=\"22\" y=\"4\" fill=\"#000000\" />\n<rect width=\".81\" height=\".81\" x=\"23\" y=\"4\" fill=\"#000000\" />\n<rect width=\".81\" height=\".81\" x=\"24\" y=\"4\" fill=\"#000000\" />\n<rect width=\".81\" height=\".81\" x=\"25\" y=\"4\" fill=\"#000000\" />\n<rect width=\".81\" height=\".81\" x=\"26\" y=\"4\" fill=\"#000000\" />\n<rect width=\".81\" height=\".81\" x=\"27\" y=\"4\" fill=\"#000000\" />\n<rect width=\".81\" height=\".81\" x=\"0\" y=\"5\" fill=\"#000000\" />\n<rect width=\".81\" height=\".81\" x=\"1\" y=\"5\" fill=\"#000000\" />\n<rect width=\".81\" height=\".81\" x=\"2\" y=\"5\" fill=\"#000000\" />\n<rect width=\".81\" height=\".81\" x=\"3\" y=\"5\" fill=\"#000000\" />\n<rect width=\".81\" height=\".81\" x=\"4\" y=\"5\" fill=\"#000000\" />\n<rect width=\".81\" height=\".81\" x=\"5\" y=\"5\" fill=\"#000000\" />\n<rect width=\".81\" height=\".81\" x=\"6\" y=\"5\" fill=\"#000000\" />\n<rect width=\".81\" height=\".81\" x=\"7\" y=\"5\" fill=\"#000000\" />\n<rect width=\".81\" height=\".81\" x=\"8\" y=\"5\" fill=\"#000000\" />\n<rect width=\".81\" height=\".81\" x=\"9\" y=\"5\" fill=\"#000000\" />\n<rect width=\".81\" height=\".81\" x=\"10\" y=\"5\" fill=\"#000000\" />\n<rect width=\".81\" height=\".81\" x=\"11\" y=\"5\" fill=\"#000000\" />\n<rect width=\".81\" height=\".81\" x=\"12\" y=\"5\" fill=\"#030303\" />\n<rect width=\".81\" height=\".81\" x=\"13\" y=\"5\" fill=\"#121212\" />\n<rect width=\".81\" height=\".81\" x=\"14\" y=\"5\" fill=\"#121212\" />\n<rect width=\".81\" height=\".81\" x=\"15\" y=\"5\" fill=\"#121212\" />\n<rect width=\".81\" height=\".81\" x=\"16\" y=\"5\" fill=\"#7E7E7E\" />\n<rect width=\".81\" height=\".81\" x=\"17\" y=\"5\" fill=\"#888888\" />\n<rect width=\".81\" height=\".81\" x=\"18\" y=\"5\" fill=\"#AFAFAF\" />\n<rect width=\".81\" height=\".81\" x=\"19\" y=\"5\" fill=\"#1A1A1A\" />\n<rect width=\".81\" height=\".81\" x=\"20\" y=\"5\" fill=\"#A6A6A6\" />\n<rect width=\".81\" height=\".81\" x=\"21\" y=\"5\" fill=\"#FFFFFF\" />\n<rect width=\".81\" height=\".81\" x=\"22\" y=\"5\" fill=\"#F7F7F7\" />\n<rect width=\".81\" height=\".81\" x=\"23\" y=\"5\" fill=\"#7F7F7F\" />\n<rect width=\".81\" height=\".81\" x=\"24\" y=\"5\" fill=\"#000000\" />\n<rect width=\".81\" height=\".81\" x=\"25\" y=\"5\" fill=\"#000000\" />\n<rect width=\".81\" height=\".81\" x=\"26\" y=\"5\" fill=\"#000000\" />\n<rect width=\".81\" height=\".81\" x=\"27\" y=\"5\" fill=\"#000000\" />\n<rect width=\".81\" height=\".81\" x=\"0\" y=\"6\" fill=\"#000000\" />\n<rect width=\".81\" height=\".81\" x=\"1\" y=\"6\" fill=\"#000000\" />\n<rect width=\".81\" height=\".81\" x=\"2\" y=\"6\" fill=\"#000000\" />\n<rect width=\".81\" height=\".81\" x=\"3\" y=\"6\" fill=\"#000000\" />\n<rect width=\".81\" height=\".81\" x=\"4\" y=\"6\" fill=\"#000000\" />\n<rect width=\".81\" height=\".81\" x=\"5\" y=\"6\" fill=\"#000000\" />\n<rect width=\".81\" height=\".81\" x=\"6\" y=\"6\" fill=\"#000000\" />\n<rect width=\".81\" height=\".81\" x=\"7\" y=\"6\" fill=\"#000000\" />\n<rect width=\".81\" height=\".81\" x=\"8\" y=\"6\" fill=\"#1E1E1E\" />\n<rect width=\".81\" height=\".81\" x=\"9\" y=\"6\" fill=\"#242424\" />\n<rect width=\".81\" height=\".81\" x=\"10\" y=\"6\" fill=\"#5E5E5E\" />\n<rect width=\".81\" height=\".81\" x=\"11\" y=\"6\" fill=\"#9A9A9A\" />\n<rect width=\".81\" height=\".81\" x=\"12\" y=\"6\" fill=\"#AAAAAA\" />\n<rect width=\".81\" height=\".81\" x=\"13\" y=\"6\" fill=\"#FDFDFD\" />\n<rect width=\".81\" height=\".81\" x=\"14\" y=\"6\" fill=\"#FDFDFD\" />\n<rect width=\".81\" height=\".81\" x=\"15\" y=\"6\" fill=\"#FDFDFD\" />\n<rect width=\".81\" height=\".81\" x=\"16\" y=\"6\" fill=\"#FDFDFD\" />\n<rect width=\".81\" height=\".81\" x=\"17\" y=\"6\" fill=\"#FDFDFD\" />\n<rect width=\".81\" height=\".81\" x=\"18\" y=\"6\" fill=\"#E1E1E1\" />\n<rect width=\".81\" height=\".81\" x=\"19\" y=\"6\" fill=\"#ACACAC\" />\n<rect width=\".81\" height=\".81\" x=\"20\" y=\"6\" fill=\"#FDFDFD\" />\n<rect width=\".81\" height=\".81\" x=\"21\" y=\"6\" fill=\"#F2F2F2\" />\n<rect width=\".81\" height=\".81\" x=\"22\" y=\"6\" fill=\"#C3C3C3\" />\n<rect width=\".81\" height=\".81\" x=\"23\" y=\"6\" fill=\"#404040\" />\n<rect width=\".81\" height=\".81\" x=\"24\" y=\"6\" fill=\"#000000\" />\n<rect width=\".81\" height=\".81\" x=\"25\" y=\"6\" fill=\"#000000\" />\n<rect width=\".81\" height=\".81\" x=\"26\" y=\"6\" fill=\"#000000\" />\n<rect width=\".81\" height=\".81\" x=\"27\" y=\"6\" fill=\"#000000\" />\n<rect width=\".81\" height=\".81\" x=\"0\" y=\"7\" fill=\"#000000\" />\n<rect width=\".81\" height=\".81\" x=\"1\" y=\"7\" fill=\"#000000\" />\n<rect width=\".81\" height=\".81\" x=\"2\" y=\"7\" fill=\"#000000\" />\n<rect width=\".81\" height=\".81\" x=\"3\" y=\"7\" fill=\"#000000\" />\n<rect width=\".81\" height=\".81\" x=\"4\" y=\"7\" fill=\"#000000\" />\n<rect width=\".81\" height=\".81\" x=\"5\" y=\"7\" fill=\"#000000\" />\n<rect width=\".81\" height=\".81\" x=\"6\" y=\"7\" fill=\"#000000\" />\n<rect width=\".81\" height=\".81\" x=\"7\" y=\"7\" fill=\"#313131\" />\n<rect width=\".81\" height=\".81\" x=\"8\" y=\"7\" fill=\"#EEEEEE\" />\n<rect width=\".81\" height=\".81\" x=\"9\" y=\"7\" fill=\"#FDFDFD\" />\n<rect width=\".81\" height=\".81\" x=\"10\" y=\"7\" fill=\"#FDFDFD\" />\n<rect width=\".81\" height=\".81\" x=\"11\" y=\"7\" fill=\"#FDFDFD\" />\n<rect width=\".81\" height=\".81\" x=\"12\" y=\"7\" fill=\"#FDFDFD\" />\n<rect width=\".81\" height=\".81\" x=\"13\" y=\"7\" fill=\"#FDFDFD\" />\n<rect width=\".81\" height=\".81\" x=\"14\" y=\"7\" fill=\"#FDFDFD\" />\n<rect width=\".81\" height=\".81\" x=\"15\" y=\"7\" fill=\"#FDFDFD\" />\n<rect width=\".81\" height=\".81\" x=\"16\" y=\"7\" fill=\"#FDFDFD\" />\n<rect width=\".81\" height=\".81\" x=\"17\" y=\"7\" fill=\"#FBFBFB\" />\n<rect width=\".81\" height=\".81\" x=\"18\" y=\"7\" fill=\"#5D5D5D\" />\n<rect width=\".81\" height=\".81\" x=\"19\" y=\"7\" fill=\"#525252\" />\n<rect width=\".81\" height=\".81\" x=\"20\" y=\"7\" fill=\"#525252\" />\n<rect width=\".81\" height=\".81\" x=\"21\" y=\"7\" fill=\"#383838\" />\n<rect width=\".81\" height=\".81\" x=\"22\" y=\"7\" fill=\"#272727\" />\n<rect width=\".81\" height=\".81\" x=\"23\" y=\"7\" fill=\"#000000\" />\n<rect width=\".81\" height=\".81\" x=\"24\" y=\"7\" fill=\"#000000\" />\n<rect width=\".81\" height=\".81\" x=\"25\" y=\"7\" fill=\"#000000\" />\n<rect width=\".81\" height=\".81\" x=\"26\" y=\"7\" fill=\"#000000\" />\n<rect width=\".81\" height=\".81\" x=\"27\" y=\"7\" fill=\"#000000\" />\n<rect width=\".81\" height=\".81\" x=\"0\" y=\"8\" fill=\"#000000\" />\n<rect width=\".81\" height=\".81\" x=\"1\" y=\"8\" fill=\"#000000\" />\n<rect width=\".81\" height=\".81\" x=\"2\" y=\"8\" fill=\"#000000\" />\n<rect width=\".81\" height=\".81\" x=\"3\" y=\"8\" fill=\"#000000\" />\n<rect width=\".81\" height=\".81\" x=\"4\" y=\"8\" fill=\"#000000\" />\n<rect width=\".81\" height=\".81\" x=\"5\" y=\"8\" fill=\"#000000\" />\n<rect width=\".81\" height=\".81\" x=\"6\" y=\"8\" fill=\"#000000\" />\n<rect width=\".81\" height=\".81\" x=\"7\" y=\"8\" fill=\"#121212\" />\n<rect width=\".81\" height=\".81\" x=\"8\" y=\"8\" fill=\"#DBDBDB\" />\n<rect width=\".81\" height=\".81\" x=\"9\" y=\"8\" fill=\"#FDFDFD\" />\n<rect width=\".81\" height=\".81\" x=\"10\" y=\"8\" fill=\"#FDFDFD\" />\n<rect width=\".81\" height=\".81\" x=\"11\" y=\"8\" fill=\"#FDFDFD\" />\n<rect width=\".81\" height=\".81\" x=\"12\" y=\"8\" fill=\"#FDFDFD\" />\n<rect width=\".81\" height=\".81\" x=\"13\" y=\"8\" fill=\"#FDFDFD\" />\n<rect width=\".81\" height=\".81\" x=\"14\" y=\"8\" fill=\"#C6C6C6\" />\n<rect width=\".81\" height=\".81\" x=\"15\" y=\"8\" fill=\"#B6B6B6\" />\n<rect width=\".81\" height=\".81\" x=\"16\" y=\"8\" fill=\"#F7F7F7\" />\n<rect width=\".81\" height=\".81\" x=\"17\" y=\"8\" fill=\"#F1F1F1\" />\n<rect width=\".81\" height=\".81\" x=\"18\" y=\"8\" fill=\"#000000\" />\n<rect width=\".81\" height=\".81\" x=\"19\" y=\"8\" fill=\"#000000\" />\n<rect width=\".81\" height=\".81\" x=\"20\" y=\"8\" fill=\"#000000\" />\n<rect width=\".81\" height=\".81\" x=\"21\" y=\"8\" fill=\"#000000\" />\n<rect width=\".81\" height=\".81\" x=\"22\" y=\"8\" fill=\"#000000\" />\n<rect width=\".81\" height=\".81\" x=\"23\" y=\"8\" fill=\"#000000\" />\n<rect width=\".81\" height=\".81\" x=\"24\" y=\"8\" fill=\"#000000\" />\n<rect width=\".81\" height=\".81\" x=\"25\" y=\"8\" fill=\"#000000\" />\n<rect width=\".81\" height=\".81\" x=\"26\" y=\"8\" fill=\"#000000\" />\n<rect width=\".81\" height=\".81\" x=\"27\" y=\"8\" fill=\"#000000\" />\n<rect width=\".81\" height=\".81\" x=\"0\" y=\"9\" fill=\"#000000\" />\n<rect width=\".81\" height=\".81\" x=\"1\" y=\"9\" fill=\"#000000\" />\n<rect width=\".81\" height=\".81\" x=\"2\" y=\"9\" fill=\"#000000\" />\n<rect width=\".81\" height=\".81\" x=\"3\" y=\"9\" fill=\"#000000\" />\n<rect width=\".81\" height=\".81\" x=\"4\" y=\"9\" fill=\"#000000\" />\n<rect width=\".81\" height=\".81\" x=\"5\" y=\"9\" fill=\"#000000\" />\n<rect width=\".81\" height=\".81\" x=\"6\" y=\"9\" fill=\"#000000\" />\n<rect width=\".81\" height=\".81\" x=\"7\" y=\"9\" fill=\"#000000\" />\n<rect width=\".81\" height=\".81\" x=\"8\" y=\"9\" fill=\"#505050\" />\n<rect width=\".81\" height=\".81\" x=\"9\" y=\"9\" fill=\"#9C9C9C\" />\n<rect width=\".81\" height=\".81\" x=\"10\" y=\"9\" fill=\"#6B6B6B\" />\n<rect width=\".81\" height=\".81\" x=\"11\" y=\"9\" fill=\"#FDFDFD\" />\n<rect width=\".81\" height=\".81\" x=\"12\" y=\"9\" fill=\"#FDFDFD\" />\n<rect width=\".81\" height=\".81\" x=\"13\" y=\"9\" fill=\"#CDCDCD\" />\n<rect width=\".81\" height=\".81\" x=\"14\" y=\"9\" fill=\"#0B0B0B\" />\n<rect width=\".81\" height=\".81\" x=\"15\" y=\"9\" fill=\"#000000\" />\n<rect width=\".81\" height=\".81\" x=\"16\" y=\"9\" fill=\"#2B2B2B\" />\n<rect width=\".81\" height=\".81\" x=\"17\" y=\"9\" fill=\"#9A9A9A\" />\n<rect width=\".81\" height=\".81\" x=\"18\" y=\"9\" fill=\"#000000\" />\n<rect width=\".81\" height=\".81\" x=\"19\" y=\"9\" fill=\"#000000\" />\n<rect width=\".81\" height=\".81\" x=\"20\" y=\"9\" fill=\"#000000\" />\n<rect width=\".81\" height=\".81\" x=\"21\" y=\"9\" fill=\"#000000\" />\n<rect width=\".81\" height=\".81\" x=\"22\" y=\"9\" fill=\"#000000\" />\n<rect width=\".81\" height=\".81\" x=\"23\" y=\"9\" fill=\"#000000\" />\n<rect width=\".81\" height=\".81\" x=\"24\" y=\"9\" fill=\"#000000\" />\n<rect width=\".81\" height=\".81\" x=\"25\" y=\"9\" fill=\"#000000\" />\n<rect width=\".81\" height=\".81\" x=\"26\" y=\"9\" fill=\"#000000\" />\n<rect width=\".81\" height=\".81\" x=\"27\" y=\"9\" fill=\"#000000\" />\n<rect width=\".81\" height=\".81\" x=\"0\" y=\"10\" fill=\"#000000\" />\n<rect width=\".81\" height=\".81\" x=\"1\" y=\"10\" fill=\"#000000\" />\n<rect width=\".81\" height=\".81\" x=\"2\" y=\"10\" fill=\"#000000\" />\n<rect width=\".81\" height=\".81\" x=\"3\" y=\"10\" fill=\"#000000\" />\n<rect width=\".81\" height=\".81\" x=\"4\" y=\"10\" fill=\"#000000\" />\n<rect width=\".81\" height=\".81\" x=\"5\" y=\"10\" fill=\"#000000\" />\n<rect width=\".81\" height=\".81\" x=\"6\" y=\"10\" fill=\"#000000\" />\n<rect width=\".81\" height=\".81\" x=\"7\" y=\"10\" fill=\"#000000\" />\n<rect width=\".81\" height=\".81\" x=\"8\" y=\"10\" fill=\"#000000\" />\n<rect width=\".81\" height=\".81\" x=\"9\" y=\"10\" fill=\"#0E0E0E\" />\n<rect width=\".81\" height=\".81\" x=\"10\" y=\"10\" fill=\"#010101\" />\n<rect width=\".81\" height=\".81\" x=\"11\" y=\"10\" fill=\"#9A9A9A\" />\n<rect width=\".81\" height=\".81\" x=\"12\" y=\"10\" fill=\"#FDFDFD\" />\n<rect width=\".81\" height=\".81\" x=\"13\" y=\"10\" fill=\"#5A5A5A\" />\n<rect width=\".81\" height=\".81\" x=\"14\" y=\"10\" fill=\"#000000\" />\n<rect width=\".81\" height=\".81\" x=\"15\" y=\"10\" fill=\"#000000\" />\n<rect width=\".81\" height=\".81\" x=\"16\" y=\"10\" fill=\"#000000\" />\n<rect width=\".81\" height=\".81\" x=\"17\" y=\"10\" fill=\"#000000\" />\n<rect width=\".81\" height=\".81\" x=\"18\" y=\"10\" fill=\"#000000\" />\n<rect width=\".81\" height=\".81\" x=\"19\" y=\"10\" fill=\"#000000\" />\n<rect width=\".81\" height=\".81\" x=\"20\" y=\"10\" fill=\"#000000\" />\n<rect width=\".81\" height=\".81\" x=\"21\" y=\"10\" fill=\"#000000\" />\n<rect width=\".81\" height=\".81\" x=\"22\" y=\"10\" fill=\"#000000\" />\n<rect width=\".81\" height=\".81\" x=\"23\" y=\"10\" fill=\"#000000\" />\n<rect width=\".81\" height=\".81\" x=\"24\" y=\"10\" fill=\"#000000\" />\n<rect width=\".81\" height=\".81\" x=\"25\" y=\"10\" fill=\"#000000\" />\n<rect width=\".81\" height=\".81\" x=\"26\" y=\"10\" fill=\"#000000\" />\n<rect width=\".81\" height=\".81\" x=\"27\" y=\"10\" fill=\"#000000\" />\n<rect width=\".81\" height=\".81\" x=\"0\" y=\"11\" fill=\"#000000\" />\n<rect width=\".81\" height=\".81\" x=\"1\" y=\"11\" fill=\"#000000\" />\n<rect width=\".81\" height=\".81\" x=\"2\" y=\"11\" fill=\"#000000\" />\n<rect width=\".81\" height=\".81\" x=\"3\" y=\"11\" fill=\"#000000\" />\n<rect width=\".81\" height=\".81\" x=\"4\" y=\"11\" fill=\"#000000\" />\n<rect width=\".81\" height=\".81\" x=\"5\" y=\"11\" fill=\"#000000\" />\n<rect width=\".81\" height=\".81\" x=\"6\" y=\"11\" fill=\"#000000\" />\n<rect width=\".81\" height=\".81\" x=\"7\" y=\"11\" fill=\"#000000\" />\n<rect width=\".81\" height=\".81\" x=\"8\" y=\"11\" fill=\"#000000\" />\n<rect width=\".81\" height=\".81\" x=\"9\" y=\"11\" fill=\"#000000\" />\n<rect width=\".81\" height=\".81\" x=\"10\" y=\"11\" fill=\"#000000\" />\n<rect width=\".81\" height=\".81\" x=\"11\" y=\"11\" fill=\"#8B8B8B\" />\n<rect width=\".81\" height=\".81\" x=\"12\" y=\"11\" fill=\"#FDFDFD\" />\n<rect width=\".81\" height=\".81\" x=\"13\" y=\"11\" fill=\"#BEBEBE\" />\n<rect width=\".81\" height=\".81\" x=\"14\" y=\"11\" fill=\"#020202\" />\n<rect width=\".81\" height=\".81\" x=\"15\" y=\"11\" fill=\"#000000\" />\n<rect width=\".81\" height=\".81\" x=\"16\" y=\"11\" fill=\"#000000\" />\n<rect width=\".81\" height=\".81\" x=\"17\" y=\"11\" fill=\"#000000\" />\n<rect width=\".81\" height=\".81\" x=\"18\" y=\"11\" fill=\"#000000\" />\n<rect width=\".81\" height=\".81\" x=\"19\" y=\"11\" fill=\"#000000\" />\n<rect width=\".81\" height=\".81\" x=\"20\" y=\"11\" fill=\"#000000\" />\n<rect width=\".81\" height=\".81\" x=\"21\" y=\"11\" fill=\"#000000\" />\n<rect width=\".81\" height=\".81\" x=\"22\" y=\"11\" fill=\"#000000\" />\n<rect width=\".81\" height=\".81\" x=\"23\" y=\"11\" fill=\"#000000\" />\n<rect width=\".81\" height=\".81\" x=\"24\" y=\"11\" fill=\"#000000\" />\n<rect width=\".81\" height=\".81\" x=\"25\" y=\"11\" fill=\"#000000\" />\n<rect width=\".81\" height=\".81\" x=\"26\" y=\"11\" fill=\"#000000\" />\n<rect width=\".81\" height=\".81\" x=\"27\" y=\"11\" fill=\"#000000\" />\n<rect width=\".81\" height=\".81\" x=\"0\" y=\"12\" fill=\"#000000\" />\n<rect width=\".81\" height=\".81\" x=\"1\" y=\"12\" fill=\"#000000\" />\n<rect width=\".81\" height=\".81\" x=\"2\" y=\"12\" fill=\"#000000\" />\n<rect width=\".81\" height=\".81\" x=\"3\" y=\"12\" fill=\"#000000\" />\n<rect width=\".81\" height=\".81\" x=\"4\" y=\"12\" fill=\"#000000\" />\n<rect width=\".81\" height=\".81\" x=\"5\" y=\"12\" fill=\"#000000\" />\n<rect width=\".81\" height=\".81\" x=\"6\" y=\"12\" fill=\"#000000\" />\n<rect width=\".81\" height=\".81\" x=\"7\" y=\"12\" fill=\"#000000\" />\n<rect width=\".81\" height=\".81\" x=\"8\" y=\"12\" fill=\"#000000\" />\n<rect width=\".81\" height=\".81\" x=\"9\" y=\"12\" fill=\"#000000\" />\n<rect width=\".81\" height=\".81\" x=\"10\" y=\"12\" fill=\"#000000\" />\n<rect width=\".81\" height=\".81\" x=\"11\" y=\"12\" fill=\"#0B0B0B\" />\n<rect width=\".81\" height=\".81\" x=\"12\" y=\"12\" fill=\"#BEBEBE\" />\n<rect width=\".81\" height=\".81\" x=\"13\" y=\"12\" fill=\"#FDFDFD\" />\n<rect width=\".81\" height=\".81\" x=\"14\" y=\"12\" fill=\"#464646\" />\n<rect width=\".81\" height=\".81\" x=\"15\" y=\"12\" fill=\"#000000\" />\n<rect width=\".81\" height=\".81\" x=\"16\" y=\"12\" fill=\"#000000\" />\n<rect width=\".81\" height=\".81\" x=\"17\" y=\"12\" fill=\"#000000\" />\n<rect width=\".81\" height=\".81\" x=\"18\" y=\"12\" fill=\"#000000\" />\n<rect width=\".81\" height=\".81\" x=\"19\" y=\"12\" fill=\"#000000\" />\n<rect width=\".81\" height=\".81\" x=\"20\" y=\"12\" fill=\"#000000\" />\n<rect width=\".81\" height=\".81\" x=\"21\" y=\"12\" fill=\"#000000\" />\n<rect width=\".81\" height=\".81\" x=\"22\" y=\"12\" fill=\"#000000\" />\n<rect width=\".81\" height=\".81\" x=\"23\" y=\"12\" fill=\"#000000\" />\n<rect width=\".81\" height=\".81\" x=\"24\" y=\"12\" fill=\"#000000\" />\n<rect width=\".81\" height=\".81\" x=\"25\" y=\"12\" fill=\"#000000\" />\n<rect width=\".81\" height=\".81\" x=\"26\" y=\"12\" fill=\"#000000\" />\n<rect width=\".81\" height=\".81\" x=\"27\" y=\"12\" fill=\"#000000\" />\n<rect width=\".81\" height=\".81\" x=\"0\" y=\"13\" fill=\"#000000\" />\n<rect width=\".81\" height=\".81\" x=\"1\" y=\"13\" fill=\"#000000\" />\n<rect width=\".81\" height=\".81\" x=\"2\" y=\"13\" fill=\"#000000\" />\n<rect width=\".81\" height=\".81\" x=\"3\" y=\"13\" fill=\"#000000\" />\n<rect width=\".81\" height=\".81\" x=\"4\" y=\"13\" fill=\"#000000\" />\n<rect width=\".81\" height=\".81\" x=\"5\" y=\"13\" fill=\"#000000\" />\n<rect width=\".81\" height=\".81\" x=\"6\" y=\"13\" fill=\"#000000\" />\n<rect width=\".81\" height=\".81\" x=\"7\" y=\"13\" fill=\"#000000\" />\n<rect width=\".81\" height=\".81\" x=\"8\" y=\"13\" fill=\"#000000\" />\n<rect width=\".81\" height=\".81\" x=\"9\" y=\"13\" fill=\"#000000\" />\n<rect width=\".81\" height=\".81\" x=\"10\" y=\"13\" fill=\"#000000\" />\n<rect width=\".81\" height=\".81\" x=\"11\" y=\"13\" fill=\"#000000\" />\n<rect width=\".81\" height=\".81\" x=\"12\" y=\"13\" fill=\"#232323\" />\n<rect width=\".81\" height=\".81\" x=\"13\" y=\"13\" fill=\"#F1F1F1\" />\n<rect width=\".81\" height=\".81\" x=\"14\" y=\"13\" fill=\"#E1E1E1\" />\n<rect width=\".81\" height=\".81\" x=\"15\" y=\"13\" fill=\"#A0A0A0\" />\n<rect width=\".81\" height=\".81\" x=\"16\" y=\"13\" fill=\"#6C6C6C\" />\n<rect width=\".81\" height=\".81\" x=\"17\" y=\"13\" fill=\"#010101\" />\n<rect width=\".81\" height=\".81\" x=\"18\" y=\"13\" fill=\"#000000\" />\n<rect width=\".81\" height=\".81\" x=\"19\" y=\"13\" fill=\"#000000\" />\n<rect width=\".81\" height=\".81\" x=\"20\" y=\"13\" fill=\"#000000\" />\n<rect width=\".81\" height=\".81\" x=\"21\" y=\"13\" fill=\"#000000\" />\n<rect width=\".81\" height=\".81\" x=\"22\" y=\"13\" fill=\"#000000\" />\n<rect width=\".81\" height=\".81\" x=\"23\" y=\"13\" fill=\"#000000\" />\n<rect width=\".81\" height=\".81\" x=\"24\" y=\"13\" fill=\"#000000\" />\n<rect width=\".81\" height=\".81\" x=\"25\" y=\"13\" fill=\"#000000\" />\n<rect width=\".81\" height=\".81\" x=\"26\" y=\"13\" fill=\"#000000\" />\n<rect width=\".81\" height=\".81\" x=\"27\" y=\"13\" fill=\"#000000\" />\n<rect width=\".81\" height=\".81\" x=\"0\" y=\"14\" fill=\"#000000\" />\n<rect width=\".81\" height=\".81\" x=\"1\" y=\"14\" fill=\"#000000\" />\n<rect width=\".81\" height=\".81\" x=\"2\" y=\"14\" fill=\"#000000\" />\n<rect width=\".81\" height=\".81\" x=\"3\" y=\"14\" fill=\"#000000\" />\n<rect width=\".81\" height=\".81\" x=\"4\" y=\"14\" fill=\"#000000\" />\n<rect width=\".81\" height=\".81\" x=\"5\" y=\"14\" fill=\"#000000\" />\n<rect width=\".81\" height=\".81\" x=\"6\" y=\"14\" fill=\"#000000\" />\n<rect width=\".81\" height=\".81\" x=\"7\" y=\"14\" fill=\"#000000\" />\n<rect width=\".81\" height=\".81\" x=\"8\" y=\"14\" fill=\"#000000\" />\n<rect width=\".81\" height=\".81\" x=\"9\" y=\"14\" fill=\"#000000\" />\n<rect width=\".81\" height=\".81\" x=\"10\" y=\"14\" fill=\"#000000\" />\n<rect width=\".81\" height=\".81\" x=\"11\" y=\"14\" fill=\"#000000\" />\n<rect width=\".81\" height=\".81\" x=\"12\" y=\"14\" fill=\"#000000\" />\n<rect width=\".81\" height=\".81\" x=\"13\" y=\"14\" fill=\"#515151\" />\n<rect width=\".81\" height=\".81\" x=\"14\" y=\"14\" fill=\"#F0F0F0\" />\n<rect width=\".81\" height=\".81\" x=\"15\" y=\"14\" fill=\"#FDFDFD\" />\n<rect width=\".81\" height=\".81\" x=\"16\" y=\"14\" fill=\"#FDFDFD\" />\n<rect width=\".81\" height=\".81\" x=\"17\" y=\"14\" fill=\"#777777\" />\n<rect width=\".81\" height=\".81\" x=\"18\" y=\"14\" fill=\"#191919\" />\n<rect width=\".81\" height=\".81\" x=\"19\" y=\"14\" fill=\"#000000\" />\n<rect width=\".81\" height=\".81\" x=\"20\" y=\"14\" fill=\"#000000\" />\n<rect width=\".81\" height=\".81\" x=\"21\" y=\"14\" fill=\"#000000\" />\n<rect width=\".81\" height=\".81\" x=\"22\" y=\"14\" fill=\"#000000\" />\n<rect width=\".81\" height=\".81\" x=\"23\" y=\"14\" fill=\"#000000\" />\n<rect width=\".81\" height=\".81\" x=\"24\" y=\"14\" fill=\"#000000\" />\n<rect width=\".81\" height=\".81\" x=\"25\" y=\"14\" fill=\"#000000\" />\n<rect width=\".81\" height=\".81\" x=\"26\" y=\"14\" fill=\"#000000\" />\n<rect width=\".81\" height=\".81\" x=\"27\" y=\"14\" fill=\"#000000\" />\n<rect width=\".81\" height=\".81\" x=\"0\" y=\"15\" fill=\"#000000\" />\n<rect width=\".81\" height=\".81\" x=\"1\" y=\"15\" fill=\"#000000\" />\n<rect width=\".81\" height=\".81\" x=\"2\" y=\"15\" fill=\"#000000\" />\n<rect width=\".81\" height=\".81\" x=\"3\" y=\"15\" fill=\"#000000\" />\n<rect width=\".81\" height=\".81\" x=\"4\" y=\"15\" fill=\"#000000\" />\n<rect width=\".81\" height=\".81\" x=\"5\" y=\"15\" fill=\"#000000\" />\n<rect width=\".81\" height=\".81\" x=\"6\" y=\"15\" fill=\"#000000\" />\n<rect width=\".81\" height=\".81\" x=\"7\" y=\"15\" fill=\"#000000\" />\n<rect width=\".81\" height=\".81\" x=\"8\" y=\"15\" fill=\"#000000\" />\n<rect width=\".81\" height=\".81\" x=\"9\" y=\"15\" fill=\"#000000\" />\n<rect width=\".81\" height=\".81\" x=\"10\" y=\"15\" fill=\"#000000\" />\n<rect width=\".81\" height=\".81\" x=\"11\" y=\"15\" fill=\"#000000\" />\n<rect width=\".81\" height=\".81\" x=\"12\" y=\"15\" fill=\"#000000\" />\n<rect width=\".81\" height=\".81\" x=\"13\" y=\"15\" fill=\"#000000\" />\n<rect width=\".81\" height=\".81\" x=\"14\" y=\"15\" fill=\"#2D2D2D\" />\n<rect width=\".81\" height=\".81\" x=\"15\" y=\"15\" fill=\"#BABABA\" />\n<rect width=\".81\" height=\".81\" x=\"16\" y=\"15\" fill=\"#FDFDFD\" />\n<rect width=\".81\" height=\".81\" x=\"17\" y=\"15\" fill=\"#FDFDFD\" />\n<rect width=\".81\" height=\".81\" x=\"18\" y=\"15\" fill=\"#969696\" />\n<rect width=\".81\" height=\".81\" x=\"19\" y=\"15\" fill=\"#1B1B1B\" />\n<rect width=\".81\" height=\".81\" x=\"20\" y=\"15\" fill=\"#000000\" />\n<rect width=\".81\" height=\".81\" x=\"21\" y=\"15\" fill=\"#000000\" />\n<rect width=\".81\" height=\".81\" x=\"22\" y=\"15\" fill=\"#000000\" />\n<rect width=\".81\" height=\".81\" x=\"23\" y=\"15\" fill=\"#000000\" />\n<rect width=\".81\" height=\".81\" x=\"24\" y=\"15\" fill=\"#000000\" />\n<rect width=\".81\" height=\".81\" x=\"25\" y=\"15\" fill=\"#000000\" />\n<rect width=\".81\" height=\".81\" x=\"26\" y=\"15\" fill=\"#000000\" />\n<rect width=\".81\" height=\".81\" x=\"27\" y=\"15\" fill=\"#000000\" />\n<rect width=\".81\" height=\".81\" x=\"0\" y=\"16\" fill=\"#000000\" />\n<rect width=\".81\" height=\".81\" x=\"1\" y=\"16\" fill=\"#000000\" />\n<rect width=\".81\" height=\".81\" x=\"2\" y=\"16\" fill=\"#000000\" />\n<rect width=\".81\" height=\".81\" x=\"3\" y=\"16\" fill=\"#000000\" />\n<rect width=\".81\" height=\".81\" x=\"4\" y=\"16\" fill=\"#000000\" />\n<rect width=\".81\" height=\".81\" x=\"5\" y=\"16\" fill=\"#000000\" />\n<rect width=\".81\" height=\".81\" x=\"6\" y=\"16\" fill=\"#000000\" />\n<rect width=\".81\" height=\".81\" x=\"7\" y=\"16\" fill=\"#000000\" />\n<rect width=\".81\" height=\".81\" x=\"8\" y=\"16\" fill=\"#000000\" />\n<rect width=\".81\" height=\".81\" x=\"9\" y=\"16\" fill=\"#000000\" />\n<rect width=\".81\" height=\".81\" x=\"10\" y=\"16\" fill=\"#000000\" />\n<rect width=\".81\" height=\".81\" x=\"11\" y=\"16\" fill=\"#000000\" />\n<rect width=\".81\" height=\".81\" x=\"12\" y=\"16\" fill=\"#000000\" />\n<rect width=\".81\" height=\".81\" x=\"13\" y=\"16\" fill=\"#000000\" />\n<rect width=\".81\" height=\".81\" x=\"14\" y=\"16\" fill=\"#000000\" />\n<rect width=\".81\" height=\".81\" x=\"15\" y=\"16\" fill=\"#101010\" />\n<rect width=\".81\" height=\".81\" x=\"16\" y=\"16\" fill=\"#5D5D5D\" />\n<rect width=\".81\" height=\".81\" x=\"17\" y=\"16\" fill=\"#FCFCFC\" />\n<rect width=\".81\" height=\".81\" x=\"18\" y=\"16\" fill=\"#FDFDFD\" />\n<rect width=\".81\" height=\".81\" x=\"19\" y=\"16\" fill=\"#BBBBBB\" />\n<rect width=\".81\" height=\".81\" x=\"20\" y=\"16\" fill=\"#000000\" />\n<rect width=\".81\" height=\".81\" x=\"21\" y=\"16\" fill=\"#000000\" />\n<rect width=\".81\" height=\".81\" x=\"22\" y=\"16\" fill=\"#000000\" />\n<rect width=\".81\" height=\".81\" x=\"23\" y=\"16\" fill=\"#000000\" />\n<rect width=\".81\" height=\".81\" x=\"24\" y=\"16\" fill=\"#000000\" />\n<rect width=\".81\" height=\".81\" x=\"25\" y=\"16\" fill=\"#000000\" />\n<rect width=\".81\" height=\".81\" x=\"26\" y=\"16\" fill=\"#000000\" />\n<rect width=\".81\" height=\".81\" x=\"27\" y=\"16\" fill=\"#000000\" />\n<rect width=\".81\" height=\".81\" x=\"0\" y=\"17\" fill=\"#000000\" />\n<rect width=\".81\" height=\".81\" x=\"1\" y=\"17\" fill=\"#000000\" />\n<rect width=\".81\" height=\".81\" x=\"2\" y=\"17\" fill=\"#000000\" />\n<rect width=\".81\" height=\".81\" x=\"3\" y=\"17\" fill=\"#000000\" />\n<rect width=\".81\" height=\".81\" x=\"4\" y=\"17\" fill=\"#000000\" />\n<rect width=\".81\" height=\".81\" x=\"5\" y=\"17\" fill=\"#000000\" />\n<rect width=\".81\" height=\".81\" x=\"6\" y=\"17\" fill=\"#000000\" />\n<rect width=\".81\" height=\".81\" x=\"7\" y=\"17\" fill=\"#000000\" />\n<rect width=\".81\" height=\".81\" x=\"8\" y=\"17\" fill=\"#000000\" />\n<rect width=\".81\" height=\".81\" x=\"9\" y=\"17\" fill=\"#000000\" />\n<rect width=\".81\" height=\".81\" x=\"10\" y=\"17\" fill=\"#000000\" />\n<rect width=\".81\" height=\".81\" x=\"11\" y=\"17\" fill=\"#000000\" />\n<rect width=\".81\" height=\".81\" x=\"12\" y=\"17\" fill=\"#000000\" />\n<rect width=\".81\" height=\".81\" x=\"13\" y=\"17\" fill=\"#000000\" />\n<rect width=\".81\" height=\".81\" x=\"14\" y=\"17\" fill=\"#000000\" />\n<rect width=\".81\" height=\".81\" x=\"15\" y=\"17\" fill=\"#000000\" />\n<rect width=\".81\" height=\".81\" x=\"16\" y=\"17\" fill=\"#000000\" />\n<rect width=\".81\" height=\".81\" x=\"17\" y=\"17\" fill=\"#F9F9F9\" />\n<rect width=\".81\" height=\".81\" x=\"18\" y=\"17\" fill=\"#FDFDFD\" />\n<rect width=\".81\" height=\".81\" x=\"19\" y=\"17\" fill=\"#F9F9F9\" />\n<rect width=\".81\" height=\".81\" x=\"20\" y=\"17\" fill=\"#404040\" />\n<rect width=\".81\" height=\".81\" x=\"21\" y=\"17\" fill=\"#000000\" />\n<rect width=\".81\" height=\".81\" x=\"22\" y=\"17\" fill=\"#000000\" />\n<rect width=\".81\" height=\".81\" x=\"23\" y=\"17\" fill=\"#000000\" />\n<rect width=\".81\" height=\".81\" x=\"24\" y=\"17\" fill=\"#000000\" />\n<rect width=\".81\" height=\".81\" x=\"25\" y=\"17\" fill=\"#000000\" />\n<rect width=\".81\" height=\".81\" x=\"26\" y=\"17\" fill=\"#000000\" />\n<rect width=\".81\" height=\".81\" x=\"27\" y=\"17\" fill=\"#000000\" />\n<rect width=\".81\" height=\".81\" x=\"0\" y=\"18\" fill=\"#000000\" />\n<rect width=\".81\" height=\".81\" x=\"1\" y=\"18\" fill=\"#000000\" />\n<rect width=\".81\" height=\".81\" x=\"2\" y=\"18\" fill=\"#000000\" />\n<rect width=\".81\" height=\".81\" x=\"3\" y=\"18\" fill=\"#000000\" />\n<rect width=\".81\" height=\".81\" x=\"4\" y=\"18\" fill=\"#000000\" />\n<rect width=\".81\" height=\".81\" x=\"5\" y=\"18\" fill=\"#000000\" />\n<rect width=\".81\" height=\".81\" x=\"6\" y=\"18\" fill=\"#000000\" />\n<rect width=\".81\" height=\".81\" x=\"7\" y=\"18\" fill=\"#000000\" />\n<rect width=\".81\" height=\".81\" x=\"8\" y=\"18\" fill=\"#000000\" />\n<rect width=\".81\" height=\".81\" x=\"9\" y=\"18\" fill=\"#000000\" />\n<rect width=\".81\" height=\".81\" x=\"10\" y=\"18\" fill=\"#000000\" />\n<rect width=\".81\" height=\".81\" x=\"11\" y=\"18\" fill=\"#000000\" />\n<rect width=\".81\" height=\".81\" x=\"12\" y=\"18\" fill=\"#000000\" />\n<rect width=\".81\" height=\".81\" x=\"13\" y=\"18\" fill=\"#000000\" />\n<rect width=\".81\" height=\".81\" x=\"14\" y=\"18\" fill=\"#2E2E2E\" />\n<rect width=\".81\" height=\".81\" x=\"15\" y=\"18\" fill=\"#828282\" />\n<rect width=\".81\" height=\".81\" x=\"16\" y=\"18\" fill=\"#B7B7B7\" />\n<rect width=\".81\" height=\".81\" x=\"17\" y=\"18\" fill=\"#FDFDFD\" />\n<rect width=\".81\" height=\".81\" x=\"18\" y=\"18\" fill=\"#FDFDFD\" />\n<rect width=\".81\" height=\".81\" x=\"19\" y=\"18\" fill=\"#CFCFCF\" />\n<rect width=\".81\" height=\".81\" x=\"20\" y=\"18\" fill=\"#020202\" />\n<rect width=\".81\" height=\".81\" x=\"21\" y=\"18\" fill=\"#000000\" />\n<rect width=\".81\" height=\".81\" x=\"22\" y=\"18\" fill=\"#000000\" />\n<rect width=\".81\" height=\".81\" x=\"23\" y=\"18\" fill=\"#000000\" />\n<rect width=\".81\" height=\".81\" x=\"24\" y=\"18\" fill=\"#000000\" />\n<rect width=\".81\" height=\".81\" x=\"25\" y=\"18\" fill=\"#000000\" />\n<rect width=\".81\" height=\".81\" x=\"26\" y=\"18\" fill=\"#000000\" />\n<rect width=\".81\" height=\".81\" x=\"27\" y=\"18\" fill=\"#000000\" />\n<rect width=\".81\" height=\".81\" x=\"0\" y=\"19\" fill=\"#000000\" />\n<rect width=\".81\" height=\".81\" x=\"1\" y=\"19\" fill=\"#000000\" />\n<rect width=\".81\" height=\".81\" x=\"2\" y=\"19\" fill=\"#000000\" />\n<rect width=\".81\" height=\".81\" x=\"3\" y=\"19\" fill=\"#000000\" />\n<rect width=\".81\" height=\".81\" x=\"4\" y=\"19\" fill=\"#000000\" />\n<rect width=\".81\" height=\".81\" x=\"5\" y=\"19\" fill=\"#000000\" />\n<rect width=\".81\" height=\".81\" x=\"6\" y=\"19\" fill=\"#000000\" />\n<rect width=\".81\" height=\".81\" x=\"7\" y=\"19\" fill=\"#000000\" />\n<rect width=\".81\" height=\".81\" x=\"8\" y=\"19\" fill=\"#000000\" />\n<rect width=\".81\" height=\".81\" x=\"9\" y=\"19\" fill=\"#000000\" />\n<rect width=\".81\" height=\".81\" x=\"10\" y=\"19\" fill=\"#000000\" />\n<rect width=\".81\" height=\".81\" x=\"11\" y=\"19\" fill=\"#000000\" />\n<rect width=\".81\" height=\".81\" x=\"12\" y=\"19\" fill=\"#272727\" />\n<rect width=\".81\" height=\".81\" x=\"13\" y=\"19\" fill=\"#949494\" />\n<rect width=\".81\" height=\".81\" x=\"14\" y=\"19\" fill=\"#E5E5E5\" />\n<rect width=\".81\" height=\".81\" x=\"15\" y=\"19\" fill=\"#FDFDFD\" />\n<rect width=\".81\" height=\".81\" x=\"16\" y=\"19\" fill=\"#FDFDFD\" />\n<rect width=\".81\" height=\".81\" x=\"17\" y=\"19\" fill=\"#FDFDFD\" />\n<rect width=\".81\" height=\".81\" x=\"18\" y=\"19\" fill=\"#FAFAFA\" />\n<rect width=\".81\" height=\".81\" x=\"19\" y=\"19\" fill=\"#B6B6B6\" />\n<rect width=\".81\" height=\".81\" x=\"20\" y=\"19\" fill=\"#000000\" />\n<rect width=\".81\" height=\".81\" x=\"21\" y=\"19\" fill=\"#000000\" />\n<rect width=\".81\" height=\".81\" x=\"22\" y=\"19\" fill=\"#000000\" />\n<rect width=\".81\" height=\".81\" x=\"23\" y=\"19\" fill=\"#000000\" />\n<rect width=\".81\" height=\".81\" x=\"24\" y=\"19\" fill=\"#000000\" />\n<rect width=\".81\" height=\".81\" x=\"25\" y=\"19\" fill=\"#000000\" />\n<rect width=\".81\" height=\".81\" x=\"26\" y=\"19\" fill=\"#000000\" />\n<rect width=\".81\" height=\".81\" x=\"27\" y=\"19\" fill=\"#000000\" />\n<rect width=\".81\" height=\".81\" x=\"0\" y=\"20\" fill=\"#000000\" />\n<rect width=\".81\" height=\".81\" x=\"1\" y=\"20\" fill=\"#000000\" />\n<rect width=\".81\" height=\".81\" x=\"2\" y=\"20\" fill=\"#000000\" />\n<rect width=\".81\" height=\".81\" x=\"3\" y=\"20\" fill=\"#000000\" />\n<rect width=\".81\" height=\".81\" x=\"4\" y=\"20\" fill=\"#000000\" />\n<rect width=\".81\" height=\".81\" x=\"5\" y=\"20\" fill=\"#000000\" />\n<rect width=\".81\" height=\".81\" x=\"6\" y=\"20\" fill=\"#000000\" />\n<rect width=\".81\" height=\".81\" x=\"7\" y=\"20\" fill=\"#000000\" />\n<rect width=\".81\" height=\".81\" x=\"8\" y=\"20\" fill=\"#000000\" />\n<rect width=\".81\" height=\".81\" x=\"9\" y=\"20\" fill=\"#000000\" />\n<rect width=\".81\" height=\".81\" x=\"10\" y=\"20\" fill=\"#181818\" />\n<rect width=\".81\" height=\".81\" x=\"11\" y=\"20\" fill=\"#727272\" />\n<rect width=\".81\" height=\".81\" x=\"12\" y=\"20\" fill=\"#DDDDDD\" />\n<rect width=\".81\" height=\".81\" x=\"13\" y=\"20\" fill=\"#FDFDFD\" />\n<rect width=\".81\" height=\".81\" x=\"14\" y=\"20\" fill=\"#FDFDFD\" />\n<rect width=\".81\" height=\".81\" x=\"15\" y=\"20\" fill=\"#FDFDFD\" />\n<rect width=\".81\" height=\".81\" x=\"16\" y=\"20\" fill=\"#FDFDFD\" />\n<rect width=\".81\" height=\".81\" x=\"17\" y=\"20\" fill=\"#C9C9C9\" />\n<rect width=\".81\" height=\".81\" x=\"18\" y=\"20\" fill=\"#4E4E4E\" />\n<rect width=\".81\" height=\".81\" x=\"19\" y=\"20\" fill=\"#000000\" />\n<rect width=\".81\" height=\".81\" x=\"20\" y=\"20\" fill=\"#000000\" />\n<rect width=\".81\" height=\".81\" x=\"21\" y=\"20\" fill=\"#000000\" />\n<rect width=\".81\" height=\".81\" x=\"22\" y=\"20\" fill=\"#000000\" />\n<rect width=\".81\" height=\".81\" x=\"23\" y=\"20\" fill=\"#000000\" />\n<rect width=\".81\" height=\".81\" x=\"24\" y=\"20\" fill=\"#000000\" />\n<rect width=\".81\" height=\".81\" x=\"25\" y=\"20\" fill=\"#000000\" />\n<rect width=\".81\" height=\".81\" x=\"26\" y=\"20\" fill=\"#000000\" />\n<rect width=\".81\" height=\".81\" x=\"27\" y=\"20\" fill=\"#000000\" />\n<rect width=\".81\" height=\".81\" x=\"0\" y=\"21\" fill=\"#000000\" />\n<rect width=\".81\" height=\".81\" x=\"1\" y=\"21\" fill=\"#000000\" />\n<rect width=\".81\" height=\".81\" x=\"2\" y=\"21\" fill=\"#000000\" />\n<rect width=\".81\" height=\".81\" x=\"3\" y=\"21\" fill=\"#000000\" />\n<rect width=\".81\" height=\".81\" x=\"4\" y=\"21\" fill=\"#000000\" />\n<rect width=\".81\" height=\".81\" x=\"5\" y=\"21\" fill=\"#000000\" />\n<rect width=\".81\" height=\".81\" x=\"6\" y=\"21\" fill=\"#000000\" />\n<rect width=\".81\" height=\".81\" x=\"7\" y=\"21\" fill=\"#000000\" />\n<rect width=\".81\" height=\".81\" x=\"8\" y=\"21\" fill=\"#171717\" />\n<rect width=\".81\" height=\".81\" x=\"9\" y=\"21\" fill=\"#424242\" />\n<rect width=\".81\" height=\".81\" x=\"10\" y=\"21\" fill=\"#D5D5D5\" />\n<rect width=\".81\" height=\".81\" x=\"11\" y=\"21\" fill=\"#FDFDFD\" />\n<rect width=\".81\" height=\".81\" x=\"12\" y=\"21\" fill=\"#FDFDFD\" />\n<rect width=\".81\" height=\".81\" x=\"13\" y=\"21\" fill=\"#FDFDFD\" />\n<rect width=\".81\" height=\".81\" x=\"14\" y=\"21\" fill=\"#FDFDFD\" />\n<rect width=\".81\" height=\".81\" x=\"15\" y=\"21\" fill=\"#C6C6C6\" />\n<rect width=\".81\" height=\".81\" x=\"16\" y=\"21\" fill=\"#515151\" />\n<rect width=\".81\" height=\".81\" x=\"17\" y=\"21\" fill=\"#020202\" />\n<rect width=\".81\" height=\".81\" x=\"18\" y=\"21\" fill=\"#000000\" />\n<rect width=\".81\" height=\".81\" x=\"19\" y=\"21\" fill=\"#000000\" />\n<rect width=\".81\" height=\".81\" x=\"20\" y=\"21\" fill=\"#000000\" />\n<rect width=\".81\" height=\".81\" x=\"21\" y=\"21\" fill=\"#000000\" />\n<rect width=\".81\" height=\".81\" x=\"22\" y=\"21\" fill=\"#000000\" />\n<rect width=\".81\" height=\".81\" x=\"23\" y=\"21\" fill=\"#000000\" />\n<rect width=\".81\" height=\".81\" x=\"24\" y=\"21\" fill=\"#000000\" />\n<rect width=\".81\" height=\".81\" x=\"25\" y=\"21\" fill=\"#000000\" />\n<rect width=\".81\" height=\".81\" x=\"26\" y=\"21\" fill=\"#000000\" />\n<rect width=\".81\" height=\".81\" x=\"27\" y=\"21\" fill=\"#000000\" />\n<rect width=\".81\" height=\".81\" x=\"0\" y=\"22\" fill=\"#000000\" />\n<rect width=\".81\" height=\".81\" x=\"1\" y=\"22\" fill=\"#000000\" />\n<rect width=\".81\" height=\".81\" x=\"2\" y=\"22\" fill=\"#000000\" />\n<rect width=\".81\" height=\".81\" x=\"3\" y=\"22\" fill=\"#000000\" />\n<rect width=\".81\" height=\".81\" x=\"4\" y=\"22\" fill=\"#000000\" />\n<rect width=\".81\" height=\".81\" x=\"5\" y=\"22\" fill=\"#000000\" />\n<rect width=\".81\" height=\".81\" x=\"6\" y=\"22\" fill=\"#121212\" />\n<rect width=\".81\" height=\".81\" x=\"7\" y=\"22\" fill=\"#ABABAB\" />\n<rect width=\".81\" height=\".81\" x=\"8\" y=\"22\" fill=\"#DBDBDB\" />\n<rect width=\".81\" height=\".81\" x=\"9\" y=\"22\" fill=\"#FDFDFD\" />\n<rect width=\".81\" height=\".81\" x=\"10\" y=\"22\" fill=\"#FDFDFD\" />\n<rect width=\".81\" height=\".81\" x=\"11\" y=\"22\" fill=\"#FDFDFD\" />\n<rect width=\".81\" height=\".81\" x=\"12\" y=\"22\" fill=\"#FDFDFD\" />\n<rect width=\".81\" height=\".81\" x=\"13\" y=\"22\" fill=\"#C3C3C3\" />\n<rect width=\".81\" height=\".81\" x=\"14\" y=\"22\" fill=\"#505050\" />\n<rect width=\".81\" height=\".81\" x=\"15\" y=\"22\" fill=\"#090909\" />\n<rect width=\".81\" height=\".81\" x=\"16\" y=\"22\" fill=\"#000000\" />\n<rect width=\".81\" height=\".81\" x=\"17\" y=\"22\" fill=\"#000000\" />\n<rect width=\".81\" height=\".81\" x=\"18\" y=\"22\" fill=\"#000000\" />\n<rect width=\".81\" height=\".81\" x=\"19\" y=\"22\" fill=\"#000000\" />\n<rect width=\".81\" height=\".81\" x=\"20\" y=\"22\" fill=\"#000000\" />\n<rect width=\".81\" height=\".81\" x=\"21\" y=\"22\" fill=\"#000000\" />\n<rect width=\".81\" height=\".81\" x=\"22\" y=\"22\" fill=\"#000000\" />\n<rect width=\".81\" height=\".81\" x=\"23\" y=\"22\" fill=\"#000000\" />\n<rect width=\".81\" height=\".81\" x=\"24\" y=\"22\" fill=\"#000000\" />\n<rect width=\".81\" height=\".81\" x=\"25\" y=\"22\" fill=\"#000000\" />\n<rect width=\".81\" height=\".81\" x=\"26\" y=\"22\" fill=\"#000000\" />\n<rect width=\".81\" height=\".81\" x=\"27\" y=\"22\" fill=\"#000000\" />\n<rect width=\".81\" height=\".81\" x=\"0\" y=\"23\" fill=\"#000000\" />\n<rect width=\".81\" height=\".81\" x=\"1\" y=\"23\" fill=\"#000000\" />\n<rect width=\".81\" height=\".81\" x=\"2\" y=\"23\" fill=\"#000000\" />\n<rect width=\".81\" height=\".81\" x=\"3\" y=\"23\" fill=\"#000000\" />\n<rect width=\".81\" height=\".81\" x=\"4\" y=\"23\" fill=\"#373737\" />\n<rect width=\".81\" height=\".81\" x=\"5\" y=\"23\" fill=\"#ACACAC\" />\n<rect width=\".81\" height=\".81\" x=\"6\" y=\"23\" fill=\"#E2E2E2\" />\n<rect width=\".81\" height=\".81\" x=\"7\" y=\"23\" fill=\"#FDFDFD\" />\n<rect width=\".81\" height=\".81\" x=\"8\" y=\"23\" fill=\"#FDFDFD\" />\n<rect width=\".81\" height=\".81\" x=\"9\" y=\"23\" fill=\"#FDFDFD\" />\n<rect width=\".81\" height=\".81\" x=\"10\" y=\"23\" fill=\"#FDFDFD\" />\n<rect width=\".81\" height=\".81\" x=\"11\" y=\"23\" fill=\"#F4F4F4\" />\n<rect width=\".81\" height=\".81\" x=\"12\" y=\"23\" fill=\"#858585\" />\n<rect width=\".81\" height=\".81\" x=\"13\" y=\"23\" fill=\"#0B0B0B\" />\n<rect width=\".81\" height=\".81\" x=\"14\" y=\"23\" fill=\"#000000\" />\n<rect width=\".81\" height=\".81\" x=\"15\" y=\"23\" fill=\"#000000\" />\n<rect width=\".81\" height=\".81\" x=\"16\" y=\"23\" fill=\"#000000\" />\n<rect width=\".81\" height=\".81\" x=\"17\" y=\"23\" fill=\"#000000\" />\n<rect width=\".81\" height=\".81\" x=\"18\" y=\"23\" fill=\"#000000\" />\n<rect width=\".81\" height=\".81\" x=\"19\" y=\"23\" fill=\"#000000\" />\n<rect width=\".81\" height=\".81\" x=\"20\" y=\"23\" fill=\"#000000\" />\n<rect width=\".81\" height=\".81\" x=\"21\" y=\"23\" fill=\"#000000\" />\n<rect width=\".81\" height=\".81\" x=\"22\" y=\"23\" fill=\"#000000\" />\n<rect width=\".81\" height=\".81\" x=\"23\" y=\"23\" fill=\"#000000\" />\n<rect width=\".81\" height=\".81\" x=\"24\" y=\"23\" fill=\"#000000\" />\n<rect width=\".81\" height=\".81\" x=\"25\" y=\"23\" fill=\"#000000\" />\n<rect width=\".81\" height=\".81\" x=\"26\" y=\"23\" fill=\"#000000\" />\n<rect width=\".81\" height=\".81\" x=\"27\" y=\"23\" fill=\"#000000\" />\n<rect width=\".81\" height=\".81\" x=\"0\" y=\"24\" fill=\"#000000\" />\n<rect width=\".81\" height=\".81\" x=\"1\" y=\"24\" fill=\"#000000\" />\n<rect width=\".81\" height=\".81\" x=\"2\" y=\"24\" fill=\"#000000\" />\n<rect width=\".81\" height=\".81\" x=\"3\" y=\"24\" fill=\"#000000\" />\n<rect width=\".81\" height=\".81\" x=\"4\" y=\"24\" fill=\"#888888\" />\n<rect width=\".81\" height=\".81\" x=\"5\" y=\"24\" fill=\"#FDFDFD\" />\n<rect width=\".81\" height=\".81\" x=\"6\" y=\"24\" fill=\"#FDFDFD\" />\n<rect width=\".81\" height=\".81\" x=\"7\" y=\"24\" fill=\"#FDFDFD\" />\n<rect width=\".81\" height=\".81\" x=\"8\" y=\"24\" fill=\"#D4D4D4\" />\n<rect width=\".81\" height=\".81\" x=\"9\" y=\"24\" fill=\"#878787\" />\n<rect width=\".81\" height=\".81\" x=\"10\" y=\"24\" fill=\"#848484\" />\n<rect width=\".81\" height=\".81\" x=\"11\" y=\"24\" fill=\"#101010\" />\n<rect width=\".81\" height=\".81\" x=\"12\" y=\"24\" fill=\"#000000\" />\n<rect width=\".81\" height=\".81\" x=\"13\" y=\"24\" fill=\"#000000\" />\n<rect width=\".81\" height=\".81\" x=\"14\" y=\"24\" fill=\"#000000\" />\n<rect width=\".81\" height=\".81\" x=\"15\" y=\"24\" fill=\"#000000\" />\n<rect width=\".81\" height=\".81\" x=\"16\" y=\"24\" fill=\"#000000\" />\n<rect width=\".81\" height=\".81\" x=\"17\" y=\"24\" fill=\"#000000\" />\n<rect width=\".81\" height=\".81\" x=\"18\" y=\"24\" fill=\"#000000\" />\n<rect width=\".81\" height=\".81\" x=\"19\" y=\"24\" fill=\"#000000\" />\n<rect width=\".81\" height=\".81\" x=\"20\" y=\"24\" fill=\"#000000\" />\n<rect width=\".81\" height=\".81\" x=\"21\" y=\"24\" fill=\"#000000\" />\n<rect width=\".81\" height=\".81\" x=\"22\" y=\"24\" fill=\"#000000\" />\n<rect width=\".81\" height=\".81\" x=\"23\" y=\"24\" fill=\"#000000\" />\n<rect width=\".81\" height=\".81\" x=\"24\" y=\"24\" fill=\"#000000\" />\n<rect width=\".81\" height=\".81\" x=\"25\" y=\"24\" fill=\"#000000\" />\n<rect width=\".81\" height=\".81\" x=\"26\" y=\"24\" fill=\"#000000\" />\n<rect width=\".81\" height=\".81\" x=\"27\" y=\"24\" fill=\"#000000\" />\n<rect width=\".81\" height=\".81\" x=\"0\" y=\"25\" fill=\"#000000\" />\n<rect width=\".81\" height=\".81\" x=\"1\" y=\"25\" fill=\"#000000\" />\n<rect width=\".81\" height=\".81\" x=\"2\" y=\"25\" fill=\"#000000\" />\n<rect width=\".81\" height=\".81\" x=\"3\" y=\"25\" fill=\"#000000\" />\n<rect width=\".81\" height=\".81\" x=\"4\" y=\"25\" fill=\"#000000\" />\n<rect width=\".81\" height=\".81\" x=\"5\" y=\"25\" fill=\"#000000\" />\n<rect width=\".81\" height=\".81\" x=\"6\" y=\"25\" fill=\"#000000\" />\n<rect width=\".81\" height=\".81\" x=\"7\" y=\"25\" fill=\"#000000\" />\n<rect width=\".81\" height=\".81\" x=\"8\" y=\"25\" fill=\"#000000\" />\n<rect width=\".81\" height=\".81\" x=\"9\" y=\"25\" fill=\"#000000\" />\n<rect width=\".81\" height=\".81\" x=\"10\" y=\"25\" fill=\"#000000\" />\n<rect width=\".81\" height=\".81\" x=\"11\" y=\"25\" fill=\"#000000\" />\n<rect width=\".81\" height=\".81\" x=\"12\" y=\"25\" fill=\"#000000\" />\n<rect width=\".81\" height=\".81\" x=\"13\" y=\"25\" fill=\"#000000\" />\n<rect width=\".81\" height=\".81\" x=\"14\" y=\"25\" fill=\"#000000\" />\n<rect width=\".81\" height=\".81\" x=\"15\" y=\"25\" fill=\"#000000\" />\n<rect width=\".81\" height=\".81\" x=\"16\" y=\"25\" fill=\"#000000\" />\n<rect width=\".81\" height=\".81\" x=\"17\" y=\"25\" fill=\"#000000\" />\n<rect width=\".81\" height=\".81\" x=\"18\" y=\"25\" fill=\"#000000\" />\n<rect width=\".81\" height=\".81\" x=\"19\" y=\"25\" fill=\"#000000\" />\n<rect width=\".81\" height=\".81\" x=\"20\" y=\"25\" fill=\"#000000\" />\n<rect width=\".81\" height=\".81\" x=\"21\" y=\"25\" fill=\"#000000\" />\n<rect width=\".81\" height=\".81\" x=\"22\" y=\"25\" fill=\"#000000\" />\n<rect width=\".81\" height=\".81\" x=\"23\" y=\"25\" fill=\"#000000\" />\n<rect width=\".81\" height=\".81\" x=\"24\" y=\"25\" fill=\"#000000\" />\n<rect width=\".81\" height=\".81\" x=\"25\" y=\"25\" fill=\"#000000\" />\n<rect width=\".81\" height=\".81\" x=\"26\" y=\"25\" fill=\"#000000\" />\n<rect width=\".81\" height=\".81\" x=\"27\" y=\"25\" fill=\"#000000\" />\n<rect width=\".81\" height=\".81\" x=\"0\" y=\"26\" fill=\"#000000\" />\n<rect width=\".81\" height=\".81\" x=\"1\" y=\"26\" fill=\"#000000\" />\n<rect width=\".81\" height=\".81\" x=\"2\" y=\"26\" fill=\"#000000\" />\n<rect width=\".81\" height=\".81\" x=\"3\" y=\"26\" fill=\"#000000\" />\n<rect width=\".81\" height=\".81\" x=\"4\" y=\"26\" fill=\"#000000\" />\n<rect width=\".81\" height=\".81\" x=\"5\" y=\"26\" fill=\"#000000\" />\n<rect width=\".81\" height=\".81\" x=\"6\" y=\"26\" fill=\"#000000\" />\n<rect width=\".81\" height=\".81\" x=\"7\" y=\"26\" fill=\"#000000\" />\n<rect width=\".81\" height=\".81\" x=\"8\" y=\"26\" fill=\"#000000\" />\n<rect width=\".81\" height=\".81\" x=\"9\" y=\"26\" fill=\"#000000\" />\n<rect width=\".81\" height=\".81\" x=\"10\" y=\"26\" fill=\"#000000\" />\n<rect width=\".81\" height=\".81\" x=\"11\" y=\"26\" fill=\"#000000\" />\n<rect width=\".81\" height=\".81\" x=\"12\" y=\"26\" fill=\"#000000\" />\n<rect width=\".81\" height=\".81\" x=\"13\" y=\"26\" fill=\"#000000\" />\n<rect width=\".81\" height=\".81\" x=\"14\" y=\"26\" fill=\"#000000\" />\n<rect width=\".81\" height=\".81\" x=\"15\" y=\"26\" fill=\"#000000\" />\n<rect width=\".81\" height=\".81\" x=\"16\" y=\"26\" fill=\"#000000\" />\n<rect width=\".81\" height=\".81\" x=\"17\" y=\"26\" fill=\"#000000\" />\n<rect width=\".81\" height=\".81\" x=\"18\" y=\"26\" fill=\"#000000\" />\n<rect width=\".81\" height=\".81\" x=\"19\" y=\"26\" fill=\"#000000\" />\n<rect width=\".81\" height=\".81\" x=\"20\" y=\"26\" fill=\"#000000\" />\n<rect width=\".81\" height=\".81\" x=\"21\" y=\"26\" fill=\"#000000\" />\n<rect width=\".81\" height=\".81\" x=\"22\" y=\"26\" fill=\"#000000\" />\n<rect width=\".81\" height=\".81\" x=\"23\" y=\"26\" fill=\"#000000\" />\n<rect width=\".81\" height=\".81\" x=\"24\" y=\"26\" fill=\"#000000\" />\n<rect width=\".81\" height=\".81\" x=\"25\" y=\"26\" fill=\"#000000\" />\n<rect width=\".81\" height=\".81\" x=\"26\" y=\"26\" fill=\"#000000\" />\n<rect width=\".81\" height=\".81\" x=\"27\" y=\"26\" fill=\"#000000\" />\n<rect width=\".81\" height=\".81\" x=\"0\" y=\"27\" fill=\"#000000\" />\n<rect width=\".81\" height=\".81\" x=\"1\" y=\"27\" fill=\"#000000\" />\n<rect width=\".81\" height=\".81\" x=\"2\" y=\"27\" fill=\"#000000\" />\n<rect width=\".81\" height=\".81\" x=\"3\" y=\"27\" fill=\"#000000\" />\n<rect width=\".81\" height=\".81\" x=\"4\" y=\"27\" fill=\"#000000\" />\n<rect width=\".81\" height=\".81\" x=\"5\" y=\"27\" fill=\"#000000\" />\n<rect width=\".81\" height=\".81\" x=\"6\" y=\"27\" fill=\"#000000\" />\n<rect width=\".81\" height=\".81\" x=\"7\" y=\"27\" fill=\"#000000\" />\n<rect width=\".81\" height=\".81\" x=\"8\" y=\"27\" fill=\"#000000\" />\n<rect width=\".81\" height=\".81\" x=\"9\" y=\"27\" fill=\"#000000\" />\n<rect width=\".81\" height=\".81\" x=\"10\" y=\"27\" fill=\"#000000\" />\n<rect width=\".81\" height=\".81\" x=\"11\" y=\"27\" fill=\"#000000\" />\n<rect width=\".81\" height=\".81\" x=\"12\" y=\"27\" fill=\"#000000\" />\n<rect width=\".81\" height=\".81\" x=\"13\" y=\"27\" fill=\"#000000\" />\n<rect width=\".81\" height=\".81\" x=\"14\" y=\"27\" fill=\"#000000\" />\n<rect width=\".81\" height=\".81\" x=\"15\" y=\"27\" fill=\"#000000\" />\n<rect width=\".81\" height=\".81\" x=\"16\" y=\"27\" fill=\"#000000\" />\n<rect width=\".81\" height=\".81\" x=\"17\" y=\"27\" fill=\"#000000\" />\n<rect width=\".81\" height=\".81\" x=\"18\" y=\"27\" fill=\"#000000\" />\n<rect width=\".81\" height=\".81\" x=\"19\" y=\"27\" fill=\"#000000\" />\n<rect width=\".81\" height=\".81\" x=\"20\" y=\"27\" fill=\"#000000\" />\n<rect width=\".81\" height=\".81\" x=\"21\" y=\"27\" fill=\"#000000\" />\n<rect width=\".81\" height=\".81\" x=\"22\" y=\"27\" fill=\"#000000\" />\n<rect width=\".81\" height=\".81\" x=\"23\" y=\"27\" fill=\"#000000\" />\n<rect width=\".81\" height=\".81\" x=\"24\" y=\"27\" fill=\"#000000\" />\n<rect width=\".81\" height=\".81\" x=\"25\" y=\"27\" fill=\"#000000\" />\n<rect width=\".81\" height=\".81\" x=\"26\" y=\"27\" fill=\"#000000\" />\n<rect width=\".81\" height=\".81\" x=\"27\" y=\"27\" fill=\"#000000\" />\n</svg>",
      "text/plain": [
       "28×28 reinterpret(reshape, Gray{N0f8}, ::Array{N0f8,2}) with eltype Gray{N0f8}:\n",
       " Gray{N0f8}(0.0)  Gray{N0f8}(0.0)  …  Gray{N0f8}(0.0)  Gray{N0f8}(0.0)\n",
       " Gray{N0f8}(0.0)  Gray{N0f8}(0.0)     Gray{N0f8}(0.0)  Gray{N0f8}(0.0)\n",
       " Gray{N0f8}(0.0)  Gray{N0f8}(0.0)     Gray{N0f8}(0.0)  Gray{N0f8}(0.0)\n",
       " Gray{N0f8}(0.0)  Gray{N0f8}(0.0)     Gray{N0f8}(0.0)  Gray{N0f8}(0.0)\n",
       " Gray{N0f8}(0.0)  Gray{N0f8}(0.0)     Gray{N0f8}(0.0)  Gray{N0f8}(0.0)\n",
       " Gray{N0f8}(0.0)  Gray{N0f8}(0.0)  …  Gray{N0f8}(0.0)  Gray{N0f8}(0.0)\n",
       " Gray{N0f8}(0.0)  Gray{N0f8}(0.0)     Gray{N0f8}(0.0)  Gray{N0f8}(0.0)\n",
       " Gray{N0f8}(0.0)  Gray{N0f8}(0.0)     Gray{N0f8}(0.0)  Gray{N0f8}(0.0)\n",
       " Gray{N0f8}(0.0)  Gray{N0f8}(0.0)     Gray{N0f8}(0.0)  Gray{N0f8}(0.0)\n",
       " Gray{N0f8}(0.0)  Gray{N0f8}(0.0)     Gray{N0f8}(0.0)  Gray{N0f8}(0.0)\n",
       " ⋮                                 ⋱                   \n",
       " Gray{N0f8}(0.0)  Gray{N0f8}(0.0)     Gray{N0f8}(0.0)  Gray{N0f8}(0.0)\n",
       " Gray{N0f8}(0.0)  Gray{N0f8}(0.0)  …  Gray{N0f8}(0.0)  Gray{N0f8}(0.0)\n",
       " Gray{N0f8}(0.0)  Gray{N0f8}(0.0)     Gray{N0f8}(0.0)  Gray{N0f8}(0.0)\n",
       " Gray{N0f8}(0.0)  Gray{N0f8}(0.0)     Gray{N0f8}(0.0)  Gray{N0f8}(0.0)\n",
       " Gray{N0f8}(0.0)  Gray{N0f8}(0.0)     Gray{N0f8}(0.0)  Gray{N0f8}(0.0)\n",
       " Gray{N0f8}(0.0)  Gray{N0f8}(0.0)     Gray{N0f8}(0.0)  Gray{N0f8}(0.0)\n",
       " Gray{N0f8}(0.0)  Gray{N0f8}(0.0)  …  Gray{N0f8}(0.0)  Gray{N0f8}(0.0)\n",
       " Gray{N0f8}(0.0)  Gray{N0f8}(0.0)     Gray{N0f8}(0.0)  Gray{N0f8}(0.0)\n",
       " Gray{N0f8}(0.0)  Gray{N0f8}(0.0)     Gray{N0f8}(0.0)  Gray{N0f8}(0.0)"
      ]
     },
     "metadata": {},
     "output_type": "display_data"
    }
   ],
   "source": [
    "# Image does not show up in Github\n",
    "using ImageCore\n",
    "\n",
    "MNIST.convert2image(MNIST.traintensor(1))"
   ]
  },
  {
   "cell_type": "code",
   "execution_count": 30,
   "id": "3a5592d4",
   "metadata": {},
   "outputs": [
    {
     "data": {
      "text/plain": [
       "5"
      ]
     },
     "metadata": {},
     "output_type": "display_data"
    }
   ],
   "source": [
    "# Confirm that it is a 5\n",
    "MNIST.trainlabels(1)"
   ]
  },
  {
   "cell_type": "code",
   "execution_count": 31,
   "id": "488a4e1f",
   "metadata": {},
   "outputs": [
    {
     "data": {
      "text/plain": [
       "(28, 28, 10000)"
      ]
     },
     "metadata": {},
     "output_type": "display_data"
    }
   ],
   "source": [
    "# Show the dimensions of the training set. Note the dimensions are ordered the opposite way of Pytorch/TF.\n",
    "size(MNIST.testtensor())"
   ]
  },
  {
   "cell_type": "code",
   "execution_count": 32,
   "id": "1c05c1bc",
   "metadata": {},
   "outputs": [],
   "source": [
    "# Let's use global variables to easily use other datasets\n",
    "WIDTH, HEIGHT, N_TRAIN_SAMPLE = size(MNIST.traintensor());\n",
    "_, _, N_TEST_SAMPLE = size(MNIST.testtensor());\n",
    "N_CHANNELS = 1;"
   ]
  },
  {
   "cell_type": "markdown",
   "id": "132d0578",
   "metadata": {},
   "source": [
    "Flux helps with the data loaders."
   ]
  },
  {
   "cell_type": "code",
   "execution_count": 33,
   "id": "4add4ef5",
   "metadata": {},
   "outputs": [],
   "source": [
    "train_x, train_y = MNIST.traindata(Float32);\n",
    "test_x, test_y = MNIST.testdata(Float32);"
   ]
  },
  {
   "cell_type": "code",
   "execution_count": 34,
   "id": "c1ae23fe",
   "metadata": {},
   "outputs": [],
   "source": [
    "# Insert a channel dimension for the MNIST dataset\n",
    "train_x = reshape(train_x, WIDTH, HEIGHT, N_CHANNELS, N_TRAIN_SAMPLE);\n",
    "test_x = reshape(test_x, WIDTH, HEIGHT, N_CHANNELS, N_TEST_SAMPLE);\n",
    "\n",
    "# reencode the labels as One-Hot\n",
    "train_y, test_y = Flux.onehotbatch(train_y, 0:9), Flux.onehotbatch(test_y, 0:9);"
   ]
  },
  {
   "cell_type": "markdown",
   "id": "6dbe1584",
   "metadata": {},
   "source": [
    "`train_x` and `train_y` are functions that deliver the data. They are combined into a data loader."
   ]
  },
  {
   "cell_type": "code",
   "execution_count": 35,
   "id": "991ad4eb",
   "metadata": {},
   "outputs": [],
   "source": [
    "# Create DataLoaders (mini-batch iterators)\n",
    "BATCH_SIZE = 256;\n",
    "train_loader = Flux.DataLoader((data=train_x, label=train_y), batchsize=BATCH_SIZE, shuffle=true);\n",
    "test_loader = Flux.DataLoader((data=test_x, label=test_y), batchsize=BATCH_SIZE, shuffle=false);"
   ]
  },
  {
   "cell_type": "markdown",
   "id": "eea04da2",
   "metadata": {},
   "source": [
    "## Sharpened Cross-correlation Similarity\n",
    "\n",
    "Let's start building the layers"
   ]
  },
  {
   "cell_type": "code",
   "execution_count": 36,
   "id": "b47ef57c",
   "metadata": {},
   "outputs": [
    {
     "name": "stderr",
     "output_type": "stream",
     "text": [
      "\u001b[32m\u001b[1m  Activating\u001b[22m\u001b[39m project at `~/Development/julia/projects/SharpenedCorrelation`\n"
     ]
    }
   ],
   "source": [
    "using Pkg; Pkg.activate(\".\");\n",
    "\n",
    "using Debugger\n",
    "using Flux, MLDatasets, ImageCore, PaddedViews\n",
    "\n",
    "train_x, train_y = MNIST.traindata(Float32);\n",
    "test_x, test_y = MNIST.testdata(Float32);\n",
    "\n",
    "# Let's use global variables to easily use other datasets\n",
    "WIDTH, HEIGHT, N_TRAIN_SAMPLE = size(MNIST.traintensor());\n",
    "_, _, N_TEST_SAMPLE = size(MNIST.testtensor());\n",
    "N_CHANNELS = 1;\n",
    "\n",
    "# Insert a channel dimension for the MNIST dataset\n",
    "train_x = reshape(train_x, WIDTH, HEIGHT, N_CHANNELS, N_TRAIN_SAMPLE);\n",
    "test_x = reshape(test_x, WIDTH, HEIGHT, N_CHANNELS, N_TEST_SAMPLE);\n",
    "\n",
    "# reencode the labels as One-Hot\n",
    "train_y, test_y = Flux.onehotbatch(train_y, 0:9), Flux.onehotbatch(test_y, 0:9);\n",
    "\n",
    "\n",
    "# Create DataLoaders (mini-batch iterators)\n",
    "BATCH_SIZE = 256;\n",
    "train_loader = Flux.DataLoader((data=train_x, label=train_y), batchsize=BATCH_SIZE, shuffle=true);\n",
    "test_loader = Flux.DataLoader((data=test_x, label=test_y), batchsize=BATCH_SIZE, shuffle=false);\n",
    "\n",
    "data, label = first(train_loader);\n",
    "\n"
   ]
  },
  {
   "cell_type": "code",
   "execution_count": 37,
   "id": "f51a70c8",
   "metadata": {
    "scrolled": false
   },
   "outputs": [],
   "source": [
    "using Debugger\n",
    "using SharpenedCorrelation"
   ]
  },
  {
   "cell_type": "markdown",
   "id": "a7862040",
   "metadata": {},
   "source": [
    "Let's create a single Sharpened Cosine Transform with a single B&W input channel yielding 8 output channels. The other 3 parameters are the kernel size, padding width around an image (padded at 0,0), and the stride. "
   ]
  },
  {
   "cell_type": "markdown",
   "id": "3aa0533a",
   "metadata": {},
   "source": [
    "Setup all the relevant model variables with values (here are the default values taken from [https://github.com/brohrer/sharpened_cosine_similarity_torch/blob/main/demo_cifar10.py]()):\n",
    "\n",
    "- Batch size: `batchsize = 1_024`\n",
    "- Maximum learning rate:  `max_lr = 0.01`\n",
    "- Number of classes: `n_classes = 10`\n",
    "- Number of training epochs: `n_epochs = 100`\n",
    "- Number of runs: `n_runs::Int = 1_000`\n",
    "\n",
    "as well as description of the model layers.\n",
    "\n",
    "`\n",
    "block_params::Dict = Dict(1 => [3,  0, 0, 0, 0, 0],\n",
    "                          2 => [16, 3, 2, 1, 2, 2],\n",
    "                          3 => [24, 3, 2, 1, 2, 2],\n",
    "                          4 => [48, 3, 2, 1, 2, 2])\n",
    "`\n",
    "\n",
    "Here, the model receives input described in layer 1, followed by 3 block layers of _Sharpened Cosine Similarity_ + _Batch Normalisation_ + _Maximum Absolute Pooling_, then followed by a final _linear_ layer (called `MultiDense` in the code) to generate the final classes. \n",
    "\n",
    "Each entry for a dual layer is of the format: `[n_out, scs_kernel, stride, scs_padding, width/height of the max pooling]`. For the input layer 1, the input channels are irrelevant, the layer only generates the input values.\n",
    "\n",
    "Let's start with the smallest model possible, a single layer.\n"
   ]
  },
  {
   "cell_type": "code",
   "execution_count": 38,
   "id": "035568f1",
   "metadata": {},
   "outputs": [
    {
     "data": {
      "text/plain": [
       "HyperParameters(256, 10, 100, 500, 0.01f0, Dict(2 => [24, 5, 2, 1, 8], 1 => [1, 0, 0, 0, 0]))"
      ]
     },
     "metadata": {},
     "output_type": "display_data"
    }
   ],
   "source": [
    "model_params = HyperParameters(;\n",
    "    batchsize = BATCH_SIZE, \n",
    "    n_classes = size(train_y)[1], \n",
    "    n_epochs = 100, \n",
    "    n_runs = 500, \n",
    "    block_params = Dict(\n",
    "        1 => [1,   0, 0, 0, 0], \n",
    "        2 => [24,  5, 2, 1, 8]))\n"
   ]
  },
  {
   "cell_type": "markdown",
   "id": "aa525675",
   "metadata": {},
   "source": [
    "We create a full model."
   ]
  },
  {
   "cell_type": "code",
   "execution_count": 39,
   "id": "d4e65f0c",
   "metadata": {},
   "outputs": [
    {
     "name": "stdout",
     "output_type": "stream",
     "text": [
      "Creating block with output dimension of the SC layer:\n",
      "width in = 28 x height in 28\n",
      "channels in 1 - out channels 24\n",
      "\n",
      "\n"
     ]
    },
    {
     "data": {
      "text/plain": [
       "SharpenedCorrelationModel(Chain(SharpenedConvolution\n",
       "  W: Array{Float32}((5, 5, 1, 24)) [-0.08397288 0.09521552 … -0.03999387 -0.08593155; 0.038379658 -0.08587201 … 0.029174626 -0.008499429; … ; 0.09030348 -0.06166755 … -0.07871263 0.0705559; -0.009983932 -0.026210887 … 0.032242876 0.044046413;;;; -0.037023228 0.07925533 … 0.013185335 -0.016177282; -0.012152385 0.09515354 … -0.01453651 0.09327892; … ; 5.912455f-5 6.732396f-5 … -0.027616749 0.029262284; 0.02986424 0.056091037 … 0.049432296 0.040444393;;;; 0.01833347 0.0053347354 … -0.08762469 -0.012944352; -0.09606999 -0.017597858 … 0.019591462 0.0913888; … ; -0.00011685918 0.035850782 … -0.00093555084 0.04722163; -0.003879608 -0.07687325 … -0.06295124 0.048021868;;;; … ;;;; 0.032039363 0.022619018 … 0.014388956 -0.03351334; 0.045436773 -0.077732034 … -0.03936804 0.0023932362; … ; -0.050274745 -0.029776651 … 0.05633787 -0.039294608; -0.07973134 0.031984784 … -0.02460232 0.030701434;;;; -0.024259567 -0.023827964 … 0.06335969 -0.06484472; -0.07192121 -0.025783794 … -0.07409298 0.072151355; … ; -0.072086774 -0.058950063 … -0.07885594 -0.041907474; -0.0034019276 -0.090667486 … -0.009435786 -0.08920166;;;; -0.001424257 -0.03658594 … -0.06401951 -0.05294983; -0.03287644 -0.031161232 … 0.090172075 -0.033402614; … ; 0.026583856 -0.032945223 … -0.043331392 0.09054611; 0.021426927 -0.0959164 … -0.05688324 -0.08762023]\n",
       "  p: Float32 1.0f0\n",
       "  q: Float32 0.1f0\n",
       "  kernel: Int64 5\n",
       "  stride: Int64 2\n",
       "  padding: Int64 1\n",
       "  out_width: Int64 13\n",
       "  out_height: Int64 13\n",
       "  out_chan: Int64 24\n",
       ", BatchNorm(24, relu), AdaptiveMaxPool((8, 8)), flatten, Dense(1536, 10)), HyperParameters(256, 10, 100, 500, 0.01f0, Dict(2 => [24, 5, 2, 1, 8], 1 => [1, 0, 0, 0, 0])), 28, 28)"
      ]
     },
     "metadata": {},
     "output_type": "display_data"
    }
   ],
   "source": [
    "sc = SharpenedCorrelationModel(model_params, WIDTH, HEIGHT)"
   ]
  },
  {
   "cell_type": "markdown",
   "id": "7a5d74d6",
   "metadata": {},
   "source": [
    "A Flux layer expects the following input dimension: `width` x `height` x `channels` x `batch size`. There for we need to reshape an image before checking that the layer actually works."
   ]
  },
  {
   "cell_type": "code",
   "execution_count": 40,
   "id": "23de07a7",
   "metadata": {},
   "outputs": [
    {
     "name": "stdout",
     "output_type": "stream",
     "text": [
      "  1.634 μs (7 allocations: 3.45 KiB)\n"
     ]
    },
    {
     "data": {
      "text/plain": [
       "(28, 28, 1, 1)"
      ]
     },
     "metadata": {},
     "output_type": "display_data"
    }
   ],
   "source": [
    "# Check it works on single image\n",
    "img = @btime train_x[:, :, 1:1, 1:1]\n",
    "size(img)"
   ]
  },
  {
   "cell_type": "code",
   "execution_count": 41,
   "id": "54cfd4a0",
   "metadata": {},
   "outputs": [],
   "source": [
    "using Debugger"
   ]
  },
  {
   "cell_type": "code",
   "execution_count": 43,
   "id": "c4ff9279",
   "metadata": {},
   "outputs": [
    {
     "ename": "ErrorException",
     "evalue": "Debugger.jl needs to be run in a Julia REPL",
     "output_type": "error",
     "traceback": [
      "Debugger.jl needs to be run in a Julia REPL\n",
      "\n",
      "Stacktrace:\n",
      "  [1] error(s::String)\n",
      "    @ Base ./error.jl:35\n",
      "  [2] RunDebugger(frame::JuliaInterpreter.Frame, repl::Nothing, terminal::Nothing; initial_continue::Bool)\n",
      "    @ Debugger ~/.julia/packages/Debugger/APRPi/src/repl.jl:15\n",
      "  [3] top-level scope\n",
      "    @ ~/.julia/packages/Debugger/APRPi/src/Debugger.jl:137\n",
      "  [4] eval\n",
      "    @ ./boot.jl:368 [inlined]\n",
      "  [5] include_string(mapexpr::typeof(REPL.softscope), mod::Module, code::String, filename::String)\n",
      "    @ Base ./loading.jl:1277\n",
      "  [6] #invokelatest#2\n",
      "    @ ./essentials.jl:729 [inlined]\n",
      "  [7] invokelatest\n",
      "    @ ./essentials.jl:727 [inlined]\n",
      "  [8] (::VSCodeServer.var\"#164#165\"{VSCodeServer.NotebookRunCellArguments, String})()\n",
      "    @ VSCodeServer ~/.vscode/extensions/julialang.language-julia-1.6.17/scripts/packages/VSCodeServer/src/serve_notebook.jl:19\n",
      "  [9] withpath(f::VSCodeServer.var\"#164#165\"{VSCodeServer.NotebookRunCellArguments, String}, path::String)\n",
      "    @ VSCodeServer ~/.vscode/extensions/julialang.language-julia-1.6.17/scripts/packages/VSCodeServer/src/repl.jl:184\n",
      " [10] notebook_runcell_request(conn::VSCodeServer.JSONRPC.JSONRPCEndpoint{Base.PipeEndpoint, Base.PipeEndpoint}, params::VSCodeServer.NotebookRunCellArguments)\n",
      "    @ VSCodeServer ~/.vscode/extensions/julialang.language-julia-1.6.17/scripts/packages/VSCodeServer/src/serve_notebook.jl:13\n",
      " [11] dispatch_msg(x::VSCodeServer.JSONRPC.JSONRPCEndpoint{Base.PipeEndpoint, Base.PipeEndpoint}, dispatcher::VSCodeServer.JSONRPC.MsgDispatcher, msg::Dict{String, Any})\n",
      "    @ VSCodeServer.JSONRPC ~/.vscode/extensions/julialang.language-julia-1.6.17/scripts/packages/JSONRPC/src/typed.jl:67\n",
      " [12] serve_notebook(pipename::String, outputchannel_logger::Base.CoreLogging.SimpleLogger; crashreporting_pipename::String)\n",
      "    @ VSCodeServer ~/.vscode/extensions/julialang.language-julia-1.6.17/scripts/packages/VSCodeServer/src/serve_notebook.jl:136\n",
      " [13] top-level scope\n",
      "    @ ~/.vscode/extensions/julialang.language-julia-1.6.17/scripts/notebook/notebook.jl:32\n",
      " [14] include(mod::Module, _path::String)\n",
      "    @ Base ./Base.jl:422\n",
      " [15] exec_options(opts::Base.JLOptions)\n",
      "    @ Base ./client.jl:303\n",
      " [16] _start()\n",
      "    @ Base ./client.jl:522"
     ]
    }
   ],
   "source": [
    "# Let's check it doesn't bug out on a single image. Size should be n classes x batch size (here 1)\n",
    "# out_label = @btime sc(img)\n",
    "Debugger.@run out_label = sc(img)\n"
   ]
  },
  {
   "cell_type": "code",
   "execution_count": null,
   "id": "8bd51931",
   "metadata": {},
   "outputs": [],
   "source": [
    "size(out_label)"
   ]
  },
  {
   "cell_type": "markdown",
   "id": "92eea0d0",
   "metadata": {},
   "source": [
    "## Loss function and optimiser"
   ]
  },
  {
   "cell_type": "code",
   "execution_count": 15,
   "id": "482e89e6",
   "metadata": {},
   "outputs": [
    {
     "data": {
      "text/plain": [
       "loss_and_accuracy (generic function with 1 method)"
      ]
     },
     "execution_count": 15,
     "metadata": {},
     "output_type": "execute_result"
    }
   ],
   "source": [
    "function loss_and_accuracy(data_loader, model, device)\n",
    "    accuracy = 0\n",
    "    loss = 0.0f0\n",
    "    count = 0\n",
    "    for (x, y) in data_loader\n",
    "        x, y = device(x), device(y)\n",
    "        ŷ = model(x)\n",
    "        loss += Flux.Losses.logitcrossentropy(ŷ, y, agg=sum)\n",
    "        accuracy += sum(onecold(ŷ) .== onecold(y))\n",
    "        count +=  size(x)[end]\n",
    "    end\n",
    "    return loss / count, accuracy / count\n",
    "end"
   ]
  },
  {
   "cell_type": "code",
   "execution_count": 16,
   "id": "7b38507b",
   "metadata": {},
   "outputs": [
    {
     "ename": "LoadError",
     "evalue": "UndefVarError: model_params not defined",
     "output_type": "error",
     "traceback": [
      "UndefVarError: model_params not defined",
      "",
      "Stacktrace:",
      " [1] top-level scope",
      "   @ In[16]:1",
      " [2] eval",
      "   @ ./boot.jl:373 [inlined]",
      " [3] include_string(mapexpr::typeof(REPL.softscope), mod::Module, code::String, filename::String)",
      "   @ Base ./loading.jl:1196"
     ]
    }
   ],
   "source": [
    "optimiser = ADAM(model_params.max_lr);\n",
    "ps = Flux.params(sc)"
   ]
  },
  {
   "cell_type": "markdown",
   "id": "a0969932",
   "metadata": {},
   "source": [
    "## Training - Work in progress"
   ]
  },
  {
   "cell_type": "code",
   "execution_count": 26,
   "id": "41025256",
   "metadata": {},
   "outputs": [],
   "source": [
    "data, label = first(train_loader);"
   ]
  },
  {
   "cell_type": "code",
   "execution_count": 73,
   "id": "aaccdb88",
   "metadata": {},
   "outputs": [
    {
     "data": {
      "text/plain": [
       "SharpenedConvolution\n",
       "  W: Array{Float32}((5, 5, 1, 16)) [-0.09097837 -0.07746911 … -0.0782877 0.10234335; -0.07949978 0.035947695 … -0.03898492 0.09566406; … ; -0.031589366 -0.08400774 … -0.118056305 -0.06652068; 0.05039504 0.072273605 … 0.036681302 -0.06439322;;;; 0.06528427 -0.031971585 … -0.014891504 0.021438185; 0.002922749 0.030369377 … -0.030466728 -0.010516672; … ; 0.047203455 -0.06020778 … -0.1088815 0.041800275; -0.012337831 0.0004136222 … 0.020026186 -0.063673384;;;; 0.07209249 -0.11482985 … -0.03032194 -0.078399494; 0.042712264 -0.017164867 … -0.04245942 -0.08434749; … ; -0.053068373 -0.036270924 … -0.01190234 0.04457287; 0.09645407 0.06579522 … 0.08758384 -0.07599504;;;; … ;;;; -0.063273504 -0.044768434 … 0.068598226 0.008047517; -0.04085146 -0.10570993 … 0.08708025 0.017031923; … ; -0.017329399 -0.08272421 … -0.056110084 0.08124348; -0.043610003 -0.08443125 … -0.019943524 -0.112279095;;;; -0.023709128 0.027822658 … 0.024176616 0.02918409; -0.11875814 0.11234228 … 0.01227252 -0.021421798; … ; 0.06870384 -0.106364034 … 0.007173403 0.06393765; 0.040792737 -0.057107314 … -0.03841498 -0.10485477;;;; -0.06500159 -0.022357002 … -0.094185725 -0.06541265; -0.11485138 -0.031750668 … -0.038430534 -0.09678374; … ; -0.09747197 0.04425735 … 0.045868594 0.058573604; 0.08482695 0.030379916 … 0.08272931 -0.10676909]\n",
       "  p: Float32 0.0f0\n",
       "  q: Float32 0.1f0\n",
       "  kernel: Int64 5\n",
       "  stride: Int64 2\n",
       "  padding: Int64 1\n",
       "  out_width: Int64 13\n",
       "  out_height: Int64 13\n",
       "  out_chan: Int64 16\n"
      ]
     },
     "execution_count": 73,
     "metadata": {},
     "output_type": "execute_result"
    }
   ],
   "source": [
    "l1 = SharpenedConvolution(WIDTH, HEIGHT, 1, 16, 5, 2, 1)"
   ]
  },
  {
   "cell_type": "code",
   "execution_count": 75,
   "id": "44016c1c",
   "metadata": {},
   "outputs": [
    {
     "ename": "LoadError",
     "evalue": "MethodError: objects of type SharpenedConvolution are not callable",
     "output_type": "error",
     "traceback": [
      "MethodError: objects of type SharpenedConvolution are not callable",
      "",
      "Stacktrace:",
      " [1] top-level scope",
      "   @ In[75]:1",
      " [2] eval",
      "   @ ./boot.jl:373 [inlined]",
      " [3] include_string(mapexpr::typeof(REPL.softscope), mod::Module, code::String, filename::String)",
      "   @ Base ./loading.jl:1196"
     ]
    }
   ],
   "source": [
    "l1(data)"
   ]
  },
  {
   "cell_type": "code",
   "execution_count": 20,
   "id": "0d499cc6",
   "metadata": {},
   "outputs": [
    {
     "name": "stderr",
     "output_type": "stream",
     "text": [
      "Gtk-Message: 12:10:02.643: Failed to load module \"xapp-gtk3-module\"\n",
      "Gtk-Message: 12:10:02.643: Failed to load module \"canberra-gtk-module\"\n"
     ]
    }
   ],
   "source": [
    "using ProfileView"
   ]
  },
  {
   "cell_type": "code",
   "execution_count": 21,
   "id": "fde3616f",
   "metadata": {},
   "outputs": [],
   "source": [
    "@code_warntype l1(data) \n"
   ]
  },
  {
   "cell_type": "code",
   "execution_count": 22,
   "id": "3847a16f",
   "metadata": {},
   "outputs": [
    {
     "data": {
      "text/plain": [
       "Gtk.GtkWindowLeaf(name=\"\", parent, width-request=-1, height-request=-1, visible=TRUE, sensitive=TRUE, app-paintable=FALSE, can-focus=FALSE, has-focus=FALSE, is-focus=FALSE, focus-on-click=TRUE, can-default=FALSE, has-default=FALSE, receives-default=FALSE, composite-child=FALSE, style, events=0, no-show-all=FALSE, has-tooltip=FALSE, tooltip-markup=NULL, tooltip-text=NULL, window, opacity=1.000000, double-buffered, halign=GTK_ALIGN_FILL, valign=GTK_ALIGN_FILL, margin-left, margin-right, margin-start=0, margin-end=0, margin-top=0, margin-bottom=0, margin=0, hexpand=FALSE, vexpand=FALSE, hexpand-set=FALSE, vexpand-set=FALSE, expand=FALSE, scale-factor=1, border-width=0, resize-mode, child, type=GTK_WINDOW_TOPLEVEL, title=\"Profile\", role=NULL, resizable=TRUE, modal=FALSE, window-position=GTK_WIN_POS_NONE, default-width=800, default-height=600, destroy-with-parent=FALSE, hide-titlebar-when-maximized=FALSE, icon, icon-name=NULL, screen, type-hint=GDK_WINDOW_TYPE_HINT_NORMAL, skip-taskbar-hint=FALSE, skip-pager-hint=FALSE, urgency-hint=FALSE, accept-focus=TRUE, focus-on-map=TRUE, decorated=TRUE, deletable=TRUE, gravity=GDK_GRAVITY_NORTH_WEST, transient-for, attached-to, has-resize-grip, resize-grip-visible, application, is-active=FALSE, has-toplevel-focus=FALSE, startup-id, mnemonics-visible=FALSE, focus-visible=FALSE, is-maximized=FALSE)"
      ]
     },
     "execution_count": 22,
     "metadata": {},
     "output_type": "execute_result"
    }
   ],
   "source": [
    "@profview l1(data)"
   ]
  },
  {
   "cell_type": "code",
   "execution_count": 22,
   "id": "9905af89",
   "metadata": {},
   "outputs": [
    {
     "ename": "LoadError",
     "evalue": "UndefVarError: sc not defined",
     "output_type": "error",
     "traceback": [
      "UndefVarError: sc not defined",
      "",
      "Stacktrace:",
      "  [1] var\"##core#332\"()",
      "    @ Main ~/.julia/packages/BenchmarkTools/7xSXH/src/execution.jl:489",
      "  [2] var\"##sample#333\"(::Tuple{}, __params::BenchmarkTools.Parameters)",
      "    @ Main ~/.julia/packages/BenchmarkTools/7xSXH/src/execution.jl:495",
      "  [3] _run(b::BenchmarkTools.Benchmark, p::BenchmarkTools.Parameters; verbose::Bool, pad::String, kwargs::Base.Pairs{Symbol, Integer, NTuple{4, Symbol}, NamedTuple{(:samples, :evals, :gctrial, :gcsample), Tuple{Int64, Int64, Bool, Bool}}})",
      "    @ BenchmarkTools ~/.julia/packages/BenchmarkTools/7xSXH/src/execution.jl:99",
      "  [4] #invokelatest#2",
      "    @ ./essentials.jl:718 [inlined]",
      "  [5] #run_result#45",
      "    @ ~/.julia/packages/BenchmarkTools/7xSXH/src/execution.jl:34 [inlined]",
      "  [6] run(b::BenchmarkTools.Benchmark, p::BenchmarkTools.Parameters; progressid::Nothing, nleaves::Float64, ndone::Float64, kwargs::Base.Pairs{Symbol, Integer, NTuple{5, Symbol}, NamedTuple{(:verbose, :samples, :evals, :gctrial, :gcsample), Tuple{Bool, Int64, Int64, Bool, Bool}}})",
      "    @ BenchmarkTools ~/.julia/packages/BenchmarkTools/7xSXH/src/execution.jl:117",
      "  [7] #warmup#54",
      "    @ ~/.julia/packages/BenchmarkTools/7xSXH/src/execution.jl:169 [inlined]",
      "  [8] warmup(item::BenchmarkTools.Benchmark)",
      "    @ BenchmarkTools ~/.julia/packages/BenchmarkTools/7xSXH/src/execution.jl:169",
      "  [9] top-level scope",
      "    @ ~/.julia/packages/BenchmarkTools/7xSXH/src/execution.jl:575",
      " [10] eval",
      "    @ ./boot.jl:373 [inlined]",
      " [11] include_string(mapexpr::typeof(REPL.softscope), mod::Module, code::String, filename::String)",
      "    @ Base ./loading.jl:1196"
     ]
    }
   ],
   "source": [
    "@btime Flux.Losses.logitcrossentropy(sc(data), label)"
   ]
  },
  {
   "cell_type": "code",
   "execution_count": 23,
   "id": "5054e4bc",
   "metadata": {},
   "outputs": [
    {
     "ename": "LoadError",
     "evalue": "UndefVarError: ps not defined",
     "output_type": "error",
     "traceback": [
      "UndefVarError: ps not defined",
      "",
      "Stacktrace:",
      " [1] top-level scope",
      "   @ In[23]:1",
      " [2] eval",
      "   @ ./boot.jl:373 [inlined]",
      " [3] include_string(mapexpr::typeof(REPL.softscope), mod::Module, code::String, filename::String)",
      "   @ Base ./loading.jl:1196"
     ]
    }
   ],
   "source": [
    "gradient(() -> Flux.Losses.logitcrossentropy(sc(data), label), ps)"
   ]
  },
  {
   "cell_type": "code",
   "execution_count": 24,
   "id": "f89a511e",
   "metadata": {},
   "outputs": [
    {
     "ename": "LoadError",
     "evalue": "UndefVarError: ps not defined",
     "output_type": "error",
     "traceback": [
      "UndefVarError: ps not defined",
      "",
      "Stacktrace:",
      " [1] macro expansion",
      "   @ In[24]:11 [inlined]",
      " [2] top-level scope",
      "   @ ~/.julia/packages/ProgressMeter/Vf8un/src/ProgressMeter.jl:940",
      " [3] eval",
      "   @ ./boot.jl:373 [inlined]",
      " [4] include_string(mapexpr::typeof(REPL.softscope), mod::Module, code::String, filename::String)",
      "   @ Base ./loading.jl:1196"
     ]
    }
   ],
   "source": [
    "# Work in progress.\n",
    "\n",
    "## Training\n",
    "# @showprogress for epoch in 1:model_params.n_epochs\n",
    "@showprogress for epoch in 1:2\n",
    "    for (data, label) in train_loader\n",
    "        # Transfer data to device - Uncomment to use automatic detection in the package\n",
    "        # data, label = SCS.Training_Device(data), SCS.Training_Device(label) \n",
    "        \n",
    "        # Compute gradient\n",
    "        gs = gradient(() -> Flux.Losses.logitcrossentropy(sc(data), label), ps) \n",
    "        Flux.Optimise.update!(optimiser, ps, gs) # update parameters\n",
    "    end\n",
    "\n",
    "    # Report on train and test\n",
    "    train_loss, train_acc = loss_and_accuracy(train_loader, scs, SCS.Training_Device)\n",
    "    test_loss, test_acc = loss_and_accuracy(test_loader, scs_model, SCS.Training_Device)\n",
    "    println(\"Epoch: $(epoch) / $(model_params.n_epochs)\")\n",
    "    println(\"  train_loss = $(train_loss), train_accuracy = $(train_acc)\")\n",
    "    println(\"  test_loss = $(test_loss), test_accuracy = $(test_acc)\")\n",
    "end\n"
   ]
  }
 ],
 "metadata": {
  "kernelspec": {
   "display_name": "Julia 1.8.0-beta3",
   "language": "julia",
   "name": "julia-1.8"
  },
  "language_info": {
   "file_extension": ".jl",
   "mimetype": "application/julia",
   "name": "julia",
   "version": "1.8.0-beta3"
  },
  "toc": {
   "base_numbering": 1,
   "nav_menu": {
    "height": "351px",
    "width": "377px"
   },
   "number_sections": true,
   "sideBar": true,
   "skip_h1_title": false,
   "title_cell": "Table of Contents",
   "title_sidebar": "Contents",
   "toc_cell": false,
   "toc_position": {},
   "toc_section_display": true,
   "toc_window_display": true
  }
 },
 "nbformat": 4,
 "nbformat_minor": 5
}
